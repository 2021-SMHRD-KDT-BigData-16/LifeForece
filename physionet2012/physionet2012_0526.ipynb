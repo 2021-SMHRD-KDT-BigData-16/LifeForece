{
 "cells": [
  {
   "cell_type": "code",
   "execution_count": 6,
   "id": "8999814c",
   "metadata": {
    "colab": {
     "base_uri": "https://localhost:8080/",
     "height": 270
    },
    "executionInfo": {
     "elapsed": 2659,
     "status": "ok",
     "timestamp": 1684898331997,
     "user": {
      "displayName": "Seong Gyu Han",
      "userId": "00115804931718551844"
     },
     "user_tz": -540
    },
    "id": "8999814c",
    "outputId": "bdb4f854-4918-41fe-b970-231915e93431"
   },
   "outputs": [
    {
     "data": {
      "text/html": [
       "<div>\n",
       "<style scoped>\n",
       "    .dataframe tbody tr th:only-of-type {\n",
       "        vertical-align: middle;\n",
       "    }\n",
       "\n",
       "    .dataframe tbody tr th {\n",
       "        vertical-align: top;\n",
       "    }\n",
       "\n",
       "    .dataframe thead th {\n",
       "        text-align: right;\n",
       "    }\n",
       "</style>\n",
       "<table border=\"1\" class=\"dataframe\">\n",
       "  <thead>\n",
       "    <tr style=\"text-align: right;\">\n",
       "      <th></th>\n",
       "      <th>pid</th>\n",
       "      <th>rec_time</th>\n",
       "      <th>age</th>\n",
       "      <th>Gender</th>\n",
       "      <th>ICUType</th>\n",
       "      <th>ALP</th>\n",
       "      <th>ALT</th>\n",
       "      <th>AST</th>\n",
       "      <th>Albumin</th>\n",
       "      <th>BUN</th>\n",
       "      <th>Bilirubin</th>\n",
       "      <th>Cholesterol</th>\n",
       "      <th>Creatinine</th>\n",
       "      <th>FiO2</th>\n",
       "      <th>GCS</th>\n",
       "      <th>Glucose</th>\n",
       "      <th>HCO3</th>\n",
       "      <th>HCT</th>\n",
       "      <th>HR</th>\n",
       "      <th>K</th>\n",
       "      <th>Lactate</th>\n",
       "      <th>Mg</th>\n",
       "      <th>Na</th>\n",
       "      <th>PaCO2</th>\n",
       "      <th>PaO2</th>\n",
       "      <th>Platelets</th>\n",
       "      <th>RR</th>\n",
       "      <th>SPO2</th>\n",
       "      <th>BT</th>\n",
       "      <th>Tropl</th>\n",
       "      <th>TroponinI</th>\n",
       "      <th>TropT</th>\n",
       "      <th>TroponinT</th>\n",
       "      <th>Urine</th>\n",
       "      <th>WBC</th>\n",
       "      <th>pH</th>\n",
       "      <th>MechVent</th>\n",
       "      <th>survival</th>\n",
       "      <th>SBP</th>\n",
       "      <th>DBP</th>\n",
       "      <th>MBP</th>\n",
       "      <th>male</th>\n",
       "      <th>female</th>\n",
       "      <th>surv_los</th>\n",
       "    </tr>\n",
       "  </thead>\n",
       "  <tbody>\n",
       "    <tr>\n",
       "      <th>0</th>\n",
       "      <td>135089</td>\n",
       "      <td>0:00:00</td>\n",
       "      <td>90.0</td>\n",
       "      <td>1.0</td>\n",
       "      <td>3.0</td>\n",
       "      <td>NaN</td>\n",
       "      <td>NaN</td>\n",
       "      <td>NaN</td>\n",
       "      <td>NaN</td>\n",
       "      <td>NaN</td>\n",
       "      <td>NaN</td>\n",
       "      <td>NaN</td>\n",
       "      <td>NaN</td>\n",
       "      <td>NaN</td>\n",
       "      <td>NaN</td>\n",
       "      <td>NaN</td>\n",
       "      <td>NaN</td>\n",
       "      <td>NaN</td>\n",
       "      <td>86.0</td>\n",
       "      <td>NaN</td>\n",
       "      <td>NaN</td>\n",
       "      <td>NaN</td>\n",
       "      <td>NaN</td>\n",
       "      <td>NaN</td>\n",
       "      <td>NaN</td>\n",
       "      <td>NaN</td>\n",
       "      <td>19.0</td>\n",
       "      <td>97.0</td>\n",
       "      <td>37.1</td>\n",
       "      <td>NaN</td>\n",
       "      <td>NaN</td>\n",
       "      <td>NaN</td>\n",
       "      <td>NaN</td>\n",
       "      <td>NaN</td>\n",
       "      <td>NaN</td>\n",
       "      <td>NaN</td>\n",
       "      <td>NaN</td>\n",
       "      <td>-1</td>\n",
       "      <td>116.0</td>\n",
       "      <td>58.0</td>\n",
       "      <td>77.0</td>\n",
       "      <td>1</td>\n",
       "      <td>0</td>\n",
       "      <td>-7</td>\n",
       "    </tr>\n",
       "    <tr>\n",
       "      <th>1</th>\n",
       "      <td>135089</td>\n",
       "      <td>0:44:00</td>\n",
       "      <td>90.0</td>\n",
       "      <td>1.0</td>\n",
       "      <td>3.0</td>\n",
       "      <td>NaN</td>\n",
       "      <td>NaN</td>\n",
       "      <td>NaN</td>\n",
       "      <td>NaN</td>\n",
       "      <td>NaN</td>\n",
       "      <td>NaN</td>\n",
       "      <td>NaN</td>\n",
       "      <td>NaN</td>\n",
       "      <td>NaN</td>\n",
       "      <td>NaN</td>\n",
       "      <td>NaN</td>\n",
       "      <td>NaN</td>\n",
       "      <td>NaN</td>\n",
       "      <td>86.0</td>\n",
       "      <td>NaN</td>\n",
       "      <td>2.9</td>\n",
       "      <td>NaN</td>\n",
       "      <td>NaN</td>\n",
       "      <td>NaN</td>\n",
       "      <td>NaN</td>\n",
       "      <td>NaN</td>\n",
       "      <td>19.0</td>\n",
       "      <td>97.0</td>\n",
       "      <td>37.1</td>\n",
       "      <td>NaN</td>\n",
       "      <td>NaN</td>\n",
       "      <td>NaN</td>\n",
       "      <td>NaN</td>\n",
       "      <td>NaN</td>\n",
       "      <td>NaN</td>\n",
       "      <td>NaN</td>\n",
       "      <td>NaN</td>\n",
       "      <td>-1</td>\n",
       "      <td>116.0</td>\n",
       "      <td>58.0</td>\n",
       "      <td>77.0</td>\n",
       "      <td>1</td>\n",
       "      <td>0</td>\n",
       "      <td>-7</td>\n",
       "    </tr>\n",
       "    <tr>\n",
       "      <th>2</th>\n",
       "      <td>135089</td>\n",
       "      <td>2:09:00</td>\n",
       "      <td>90.0</td>\n",
       "      <td>1.0</td>\n",
       "      <td>3.0</td>\n",
       "      <td>NaN</td>\n",
       "      <td>NaN</td>\n",
       "      <td>NaN</td>\n",
       "      <td>NaN</td>\n",
       "      <td>NaN</td>\n",
       "      <td>NaN</td>\n",
       "      <td>NaN</td>\n",
       "      <td>NaN</td>\n",
       "      <td>NaN</td>\n",
       "      <td>NaN</td>\n",
       "      <td>NaN</td>\n",
       "      <td>NaN</td>\n",
       "      <td>NaN</td>\n",
       "      <td>130.0</td>\n",
       "      <td>NaN</td>\n",
       "      <td>NaN</td>\n",
       "      <td>NaN</td>\n",
       "      <td>NaN</td>\n",
       "      <td>NaN</td>\n",
       "      <td>NaN</td>\n",
       "      <td>NaN</td>\n",
       "      <td>28.0</td>\n",
       "      <td>97.0</td>\n",
       "      <td>38.7</td>\n",
       "      <td>NaN</td>\n",
       "      <td>NaN</td>\n",
       "      <td>NaN</td>\n",
       "      <td>NaN</td>\n",
       "      <td>NaN</td>\n",
       "      <td>NaN</td>\n",
       "      <td>NaN</td>\n",
       "      <td>NaN</td>\n",
       "      <td>-1</td>\n",
       "      <td>116.0</td>\n",
       "      <td>58.0</td>\n",
       "      <td>77.0</td>\n",
       "      <td>1</td>\n",
       "      <td>0</td>\n",
       "      <td>-7</td>\n",
       "    </tr>\n",
       "    <tr>\n",
       "      <th>3</th>\n",
       "      <td>135089</td>\n",
       "      <td>2:10:00</td>\n",
       "      <td>90.0</td>\n",
       "      <td>1.0</td>\n",
       "      <td>3.0</td>\n",
       "      <td>NaN</td>\n",
       "      <td>NaN</td>\n",
       "      <td>NaN</td>\n",
       "      <td>NaN</td>\n",
       "      <td>NaN</td>\n",
       "      <td>NaN</td>\n",
       "      <td>NaN</td>\n",
       "      <td>NaN</td>\n",
       "      <td>NaN</td>\n",
       "      <td>NaN</td>\n",
       "      <td>NaN</td>\n",
       "      <td>NaN</td>\n",
       "      <td>NaN</td>\n",
       "      <td>130.0</td>\n",
       "      <td>NaN</td>\n",
       "      <td>NaN</td>\n",
       "      <td>NaN</td>\n",
       "      <td>NaN</td>\n",
       "      <td>NaN</td>\n",
       "      <td>NaN</td>\n",
       "      <td>NaN</td>\n",
       "      <td>22.0</td>\n",
       "      <td>97.0</td>\n",
       "      <td>38.7</td>\n",
       "      <td>NaN</td>\n",
       "      <td>NaN</td>\n",
       "      <td>NaN</td>\n",
       "      <td>NaN</td>\n",
       "      <td>NaN</td>\n",
       "      <td>NaN</td>\n",
       "      <td>NaN</td>\n",
       "      <td>NaN</td>\n",
       "      <td>-1</td>\n",
       "      <td>116.0</td>\n",
       "      <td>58.0</td>\n",
       "      <td>77.0</td>\n",
       "      <td>1</td>\n",
       "      <td>0</td>\n",
       "      <td>-7</td>\n",
       "    </tr>\n",
       "    <tr>\n",
       "      <th>4</th>\n",
       "      <td>135089</td>\n",
       "      <td>2:15:00</td>\n",
       "      <td>90.0</td>\n",
       "      <td>1.0</td>\n",
       "      <td>3.0</td>\n",
       "      <td>NaN</td>\n",
       "      <td>NaN</td>\n",
       "      <td>NaN</td>\n",
       "      <td>NaN</td>\n",
       "      <td>NaN</td>\n",
       "      <td>NaN</td>\n",
       "      <td>NaN</td>\n",
       "      <td>NaN</td>\n",
       "      <td>NaN</td>\n",
       "      <td>NaN</td>\n",
       "      <td>NaN</td>\n",
       "      <td>NaN</td>\n",
       "      <td>NaN</td>\n",
       "      <td>123.0</td>\n",
       "      <td>NaN</td>\n",
       "      <td>NaN</td>\n",
       "      <td>NaN</td>\n",
       "      <td>NaN</td>\n",
       "      <td>NaN</td>\n",
       "      <td>NaN</td>\n",
       "      <td>NaN</td>\n",
       "      <td>23.0</td>\n",
       "      <td>97.0</td>\n",
       "      <td>38.7</td>\n",
       "      <td>NaN</td>\n",
       "      <td>NaN</td>\n",
       "      <td>NaN</td>\n",
       "      <td>NaN</td>\n",
       "      <td>NaN</td>\n",
       "      <td>NaN</td>\n",
       "      <td>NaN</td>\n",
       "      <td>NaN</td>\n",
       "      <td>-1</td>\n",
       "      <td>116.0</td>\n",
       "      <td>58.0</td>\n",
       "      <td>77.0</td>\n",
       "      <td>1</td>\n",
       "      <td>0</td>\n",
       "      <td>-7</td>\n",
       "    </tr>\n",
       "  </tbody>\n",
       "</table>\n",
       "</div>"
      ],
      "text/plain": [
       "      pid rec_time   age  Gender  ICUType  ALP  ALT  AST  Albumin  BUN   \n",
       "0  135089  0:00:00  90.0     1.0      3.0  NaN  NaN  NaN      NaN  NaN  \\\n",
       "1  135089  0:44:00  90.0     1.0      3.0  NaN  NaN  NaN      NaN  NaN   \n",
       "2  135089  2:09:00  90.0     1.0      3.0  NaN  NaN  NaN      NaN  NaN   \n",
       "3  135089  2:10:00  90.0     1.0      3.0  NaN  NaN  NaN      NaN  NaN   \n",
       "4  135089  2:15:00  90.0     1.0      3.0  NaN  NaN  NaN      NaN  NaN   \n",
       "\n",
       "   Bilirubin  Cholesterol  Creatinine  FiO2  GCS  Glucose  HCO3  HCT     HR   \n",
       "0        NaN          NaN         NaN   NaN  NaN      NaN   NaN  NaN   86.0  \\\n",
       "1        NaN          NaN         NaN   NaN  NaN      NaN   NaN  NaN   86.0   \n",
       "2        NaN          NaN         NaN   NaN  NaN      NaN   NaN  NaN  130.0   \n",
       "3        NaN          NaN         NaN   NaN  NaN      NaN   NaN  NaN  130.0   \n",
       "4        NaN          NaN         NaN   NaN  NaN      NaN   NaN  NaN  123.0   \n",
       "\n",
       "    K  Lactate  Mg  Na  PaCO2  PaO2  Platelets    RR  SPO2    BT  Tropl   \n",
       "0 NaN      NaN NaN NaN    NaN   NaN        NaN  19.0  97.0  37.1    NaN  \\\n",
       "1 NaN      2.9 NaN NaN    NaN   NaN        NaN  19.0  97.0  37.1    NaN   \n",
       "2 NaN      NaN NaN NaN    NaN   NaN        NaN  28.0  97.0  38.7    NaN   \n",
       "3 NaN      NaN NaN NaN    NaN   NaN        NaN  22.0  97.0  38.7    NaN   \n",
       "4 NaN      NaN NaN NaN    NaN   NaN        NaN  23.0  97.0  38.7    NaN   \n",
       "\n",
       "   TroponinI  TropT  TroponinT  Urine  WBC  pH  MechVent  survival    SBP   \n",
       "0        NaN    NaN        NaN    NaN  NaN NaN       NaN        -1  116.0  \\\n",
       "1        NaN    NaN        NaN    NaN  NaN NaN       NaN        -1  116.0   \n",
       "2        NaN    NaN        NaN    NaN  NaN NaN       NaN        -1  116.0   \n",
       "3        NaN    NaN        NaN    NaN  NaN NaN       NaN        -1  116.0   \n",
       "4        NaN    NaN        NaN    NaN  NaN NaN       NaN        -1  116.0   \n",
       "\n",
       "    DBP   MBP  male  female  surv_los  \n",
       "0  58.0  77.0     1       0        -7  \n",
       "1  58.0  77.0     1       0        -7  \n",
       "2  58.0  77.0     1       0        -7  \n",
       "3  58.0  77.0     1       0        -7  \n",
       "4  58.0  77.0     1       0        -7  "
      ]
     },
     "execution_count": 6,
     "metadata": {},
     "output_type": "execute_result"
    }
   ],
   "source": [
    "import pandas as pd\n",
    "\n",
    "# display 확장\n",
    "pd.set_option('display.max_columns', 1000)\n",
    "pd.set_option('display.max_rows', 1000)\n",
    "\n",
    "# train, valid, test file 경로 지정\n",
    "file = './physionet2012_train.csv'\n",
    "file2 = './physionet2012_valid.csv'\n",
    "file3 = './physionet2012_test.csv'\n",
    "\n",
    "# train data 로딩\n",
    "df = pd.read_csv(file, index_col=None)\n",
    "del df['Unnamed: 0']\n",
    "df.head()\n",
    "\n",
    "# valid data 로딩\n",
    "valid_df = pd.read_csv(file2, index_col=None)\n",
    "del valid_df['Unnamed: 0']\n",
    "valid_df.head()\n",
    "\n",
    "# tess data 로딩\n",
    "test_df = pd.read_csv(file3, index_col=None)\n",
    "del test_df['Unnamed: 0']\n",
    "test_df.head()"
   ]
  },
  {
   "cell_type": "code",
   "execution_count": 2,
   "id": "f97a11bb",
   "metadata": {
    "colab": {
     "base_uri": "https://localhost:8080/"
    },
    "executionInfo": {
     "elapsed": 622,
     "status": "ok",
     "timestamp": 1684892015949,
     "user": {
      "displayName": "Seong Gyu Han",
      "userId": "00115804931718551844"
     },
     "user_tz": -540
    },
    "id": "f97a11bb",
    "outputId": "e985366a-3aa6-4a0c-96c0-c5383f5cce7a"
   },
   "outputs": [
    {
     "name": "stdout",
     "output_type": "stream",
     "text": [
      "총 데이터 수: 242613\n",
      "총 환자 수: 3240\n",
      "총 데이터 수: 27097\n",
      "총 환자 수: 360\n",
      "총 데이터 수: 29554\n",
      "총 환자 수: 400\n"
     ]
    }
   ],
   "source": [
    "# 데이터 수와 환자 수 파악\n",
    "print('총 데이터 수: {}'.format(len(df)))\n",
    "print('총 환자 수: {}'.format(len(df.pid.unique())))\n",
    "\n",
    "print('총 데이터 수: {}'.format(len(valid_df)))\n",
    "print('총 환자 수: {}'.format(len(valid_df.pid.unique())))\n",
    "\n",
    "print('총 데이터 수: {}'.format(len(test_df)))\n",
    "print('총 환자 수: {}'.format(len(test_df.pid.unique())))\n"
   ]
  },
  {
   "cell_type": "code",
   "execution_count": null,
   "id": "979b5fc5",
   "metadata": {
    "colab": {
     "base_uri": "https://localhost:8080/"
    },
    "executionInfo": {
     "elapsed": 5,
     "status": "ok",
     "timestamp": 1684885993353,
     "user": {
      "displayName": "Seong Gyu Han",
      "userId": "00115804931718551844"
     },
     "user_tz": -540
    },
    "id": "979b5fc5",
    "outputId": "47b0c265-391a-4f2d-9a4a-f1f9385a4b88"
   },
   "outputs": [],
   "source": [
    "# dtype 파악\n",
    "df.dtypes.value_counts()"
   ]
  },
  {
   "cell_type": "code",
   "execution_count": null,
   "id": "d5d31086",
   "metadata": {
    "colab": {
     "base_uri": "https://localhost:8080/"
    },
    "executionInfo": {
     "elapsed": 535,
     "status": "ok",
     "timestamp": 1684885996578,
     "user": {
      "displayName": "Seong Gyu Han",
      "userId": "00115804931718551844"
     },
     "user_tz": -540
    },
    "id": "d5d31086",
    "outputId": "7a39f77a-17b7-4204-a89c-cd00c9bd3545"
   },
   "outputs": [],
   "source": [
    "df.info()"
   ]
  },
  {
   "cell_type": "code",
   "execution_count": null,
   "id": "bfcafa42",
   "metadata": {
    "id": "bfcafa42"
   },
   "outputs": [],
   "source": [
    "# null_ratio = 0.5\n",
    "# over_05 = df.notnull().sum()[(df.notnull().sum() / len(df)) > null_ratio].map(lambda x: x / len(df))\n",
    "\n",
    "# print(f\"결측치 비율이 0.5 이상인 컬럼 수: {len(over_05)}\")\n",
    "# over_05\n",
    "# over_columns = over_05.index\n",
    "# print(over_columns)\n",
    "\n",
    "# df2 = df[over_columns]\n",
    "# df2.head()"
   ]
  },
  {
   "cell_type": "markdown",
   "id": "413e434b",
   "metadata": {
    "id": "413e434b"
   },
   "source": [
    "## 1. 생존 유무 라벨링(0: survival, 1:death)\n",
    "- Survival > Length of stay  ⇒  Survivor\n",
    "- Survival = -1  ⇒  Survivor\n",
    "- 2 ≤ Survival ≤ Length of stay  ⇒  In-hospital death\n",
    "\n",
    "- surv-los > 0 => 0\n",
    "- Survival = -1 => 0\n",
    "- surv-los <= 0 => 1\n"
   ]
  },
  {
   "cell_type": "code",
   "execution_count": 7,
   "id": "7d677f63",
   "metadata": {
    "colab": {
     "base_uri": "https://localhost:8080/"
    },
    "executionInfo": {
     "elapsed": 427,
     "status": "ok",
     "timestamp": 1684898337757,
     "user": {
      "displayName": "Seong Gyu Han",
      "userId": "00115804931718551844"
     },
     "user_tz": -540
    },
    "id": "7d677f63",
    "outputId": "538bec42-7b14-4c00-9500-48f2112a7d38"
   },
   "outputs": [
    {
     "name": "stdout",
     "output_type": "stream",
     "text": [
      "num of survival: 2813 \n",
      " num of death: 427\n",
      "num of survival: 311 \n",
      " num of death: 49\n",
      "num of survival: 348 \n",
      " num of death: 52\n"
     ]
    }
   ],
   "source": [
    "import numpy as np\n",
    "\n",
    "# train 데이터 생존 유무 라벨링\n",
    "labels = np.zeros(len(df))\n",
    "labels[df[(2 <= df.survival) & (df.surv_los <= 0)].index.to_list()] = 1\n",
    "labels[df[df.surv_los > 0].index.to_list()] = 0\n",
    "labels[df[df.survival == -1].index.to_list()] = 0\n",
    "df['labels'] = labels\n",
    "\n",
    "cnt = df[['pid', 'labels']].drop_duplicates(['pid'])['labels'].value_counts()\n",
    "print(f'num of survival: {cnt.iloc[0]} \\n num of death: {cnt.iloc[1]}')\n",
    "\n",
    "# valid data 생존 유무 라벨링\n",
    "valid_labels = np.zeros(len(valid_df))\n",
    "valid_labels[valid_df[(2 <= valid_df.survival) & (valid_df.surv_los <= 0)].index.to_list()] = 1\n",
    "valid_labels[valid_df[valid_df.surv_los > 0].index.to_list()] = 0\n",
    "valid_labels[valid_df[valid_df.survival == -1].index.to_list()] = 0\n",
    "valid_df['labels'] = valid_labels\n",
    "\n",
    "cnt = valid_df[['pid', 'labels']].drop_duplicates(['pid'])['labels'].value_counts()\n",
    "print(f'num of survival: {cnt.iloc[0]} \\n num of death: {cnt.iloc[1]}')\n",
    "\n",
    "# test data 생존 유무 라벨링\n",
    "test_labels = np.zeros(len(test_df))\n",
    "test_labels[test_df[(2 <= test_df.survival) & (test_df.surv_los <= 0)].index.to_list()] = 1\n",
    "test_labels[test_df[test_df.surv_los > 0].index.to_list()] = 0\n",
    "test_labels[test_df[test_df.survival == -1].index.to_list()] = 0\n",
    "test_df['labels'] = test_labels\n",
    "\n",
    "cnt = test_df[['pid', 'labels']].drop_duplicates(['pid'])['labels'].value_counts()\n",
    "print(f'num of survival: {cnt.iloc[0]} \\n num of death: {cnt.iloc[1]}')"
   ]
  },
  {
   "cell_type": "markdown",
   "id": "db3e27ce",
   "metadata": {
    "id": "db3e27ce"
   },
   "source": [
    "## 데이터 전처리 - 결측치 채우기\n",
    " - 1. fillna(method='ffill')\n",
    " - 2. fillna(컬럼별 median)\n",
    " - 3. 의문점1) 결측치 비율이 0.5가 넘는 컬럼도 무리하게 결측치를 채워 사용해도 되는가?\n",
    " - 4. 의문점2) method='ffill'을 사용하면 다른 pid의 컬럼 내용을 가져올 리는 없는가?"
   ]
  },
  {
   "cell_type": "markdown",
   "id": "3f3b8cbb",
   "metadata": {
    "id": "3f3b8cbb"
   },
   "source": [
    "### \n",
    "\n",
    "- 제일 첫 값이 nun -> median\n",
    "- 그 다음에 fillna(ffill)\n",
    "- fillna(bfill)은 쓰면 안됨!!"
   ]
  },
  {
   "cell_type": "code",
   "execution_count": null,
   "id": "1f978763",
   "metadata": {
    "colab": {
     "base_uri": "https://localhost:8080/"
    },
    "executionInfo": {
     "elapsed": 303,
     "status": "ok",
     "timestamp": 1684837410119,
     "user": {
      "displayName": "Seong Gyu Han",
      "userId": "00115804931718551844"
     },
     "user_tz": -540
    },
    "id": "1f978763",
    "outputId": "c6c4758b-51ae-4d33-96cc-8c14a54b59f7"
   },
   "outputs": [],
   "source": [
    "# dropna method 연습\n",
    "test = pd.DataFrame([[1,1,np.nan],\n",
    "                     [2,2,np.nan],\n",
    "                     [np.nan, 3, np.nan],\n",
    "                     [np.nan,4,4],\n",
    "                     [5,5,5],\n",
    "                     [np.nan, np.nan, np.nan]])\n",
    "print(test)\n",
    "test2 = test.fillna(method='ffill', axis=1)\n",
    "print(test2)                    "
   ]
  },
  {
   "cell_type": "code",
   "execution_count": null,
   "id": "64867685",
   "metadata": {
    "colab": {
     "base_uri": "https://localhost:8080/"
    },
    "executionInfo": {
     "elapsed": 6,
     "status": "ok",
     "timestamp": 1684827026033,
     "user": {
      "displayName": "Seong Gyu Han",
      "userId": "00115804931718551844"
     },
     "user_tz": -540
    },
    "id": "64867685",
    "outputId": "2b65960e-3623-4af4-aecc-c0bd0f46c7ab"
   },
   "outputs": [],
   "source": [
    "df.columns"
   ]
  },
  {
   "cell_type": "code",
   "execution_count": 8,
   "id": "da821be0",
   "metadata": {
    "colab": {
     "base_uri": "https://localhost:8080/"
    },
    "executionInfo": {
     "elapsed": 324,
     "status": "ok",
     "timestamp": 1684898342059,
     "user": {
      "displayName": "Seong Gyu Han",
      "userId": "00115804931718551844"
     },
     "user_tz": -540
    },
    "id": "da821be0",
    "outputId": "b3ccc482-938a-4b6d-d86d-6164f599c01d",
    "scrolled": true
   },
   "outputs": [
    {
     "name": "stderr",
     "output_type": "stream",
     "text": [
      "C:\\Users\\SMHRD\\miniconda3\\lib\\site-packages\\numpy\\lib\\nanfunctions.py:1215: RuntimeWarning: Mean of empty slice\n",
      "  return np.nanmean(a, axis, out=out, keepdims=keepdims)\n",
      "C:\\Users\\SMHRD\\miniconda3\\lib\\site-packages\\numpy\\lib\\nanfunctions.py:1215: RuntimeWarning: Mean of empty slice\n",
      "  return np.nanmean(a, axis, out=out, keepdims=keepdims)\n"
     ]
    },
    {
     "data": {
      "text/plain": [
       "{'age': 67.0,\n",
       " 'Gender': 1.0,\n",
       " 'ICUType': 3.0,\n",
       " 'ALP': 82.0,\n",
       " 'ALT': 43.0,\n",
       " 'AST': 63.0,\n",
       " 'Albumin': 2.9,\n",
       " 'BUN': 20.0,\n",
       " 'Bilirubin': 0.9,\n",
       " 'Cholesterol': 154.0,\n",
       " 'Creatinine': 1.0,\n",
       " 'FiO2': 0.5,\n",
       " 'GCS': 13.0,\n",
       " 'Glucose': 127.0,\n",
       " 'HCO3': 23.0,\n",
       " 'HCT': 30.3,\n",
       " 'HR': 86.0,\n",
       " 'K': 4.1,\n",
       " 'Lactate': 2.1,\n",
       " 'Mg': 2.0,\n",
       " 'Na': 139.0,\n",
       " 'PaCO2': 39.0,\n",
       " 'PaO2': 122.0,\n",
       " 'Platelets': 173.0,\n",
       " 'RR': 19.0,\n",
       " 'SPO2': 97.0,\n",
       " 'BT': 37.1,\n",
       " 'Tropl': nan,\n",
       " 'TroponinI': 2.9,\n",
       " 'TropT': nan,\n",
       " 'TroponinT': 0.22,\n",
       " 'Urine': 70.0,\n",
       " 'WBC': 11.5,\n",
       " 'pH': 7.38,\n",
       " 'MechVent': 1.0,\n",
       " 'survival': -1.0,\n",
       " 'SBP': 116.0,\n",
       " 'DBP': 58.0,\n",
       " 'MBP': 77.0,\n",
       " 'male': 1.0,\n",
       " 'female': 0.0,\n",
       " 'surv_los': -7.0,\n",
       " 'labels': 0.0}"
      ]
     },
     "execution_count": 8,
     "metadata": {},
     "output_type": "execute_result"
    }
   ],
   "source": [
    "first_index = df.drop_duplicates('pid').index\n",
    "first_indext = test_df.drop_duplicates('pid').index\n",
    "first_indexv= valid_df.drop_duplicates('pid').index\n",
    "\n",
    "colss=df.columns\n",
    "cols=[]\n",
    "for i in range (2,colss.size):\n",
    "  cols.append(colss[i])\n",
    "# 중앙값 구하기\n",
    "median_dict={}\n",
    "for col in cols:\n",
    "  median_dict[col] = df[col].median()  \n",
    "median_dict"
   ]
  },
  {
   "cell_type": "code",
   "execution_count": 9,
   "id": "aa58b35f",
   "metadata": {
    "executionInfo": {
     "elapsed": 15544,
     "status": "ok",
     "timestamp": 1684898360793,
     "user": {
      "displayName": "Seong Gyu Han",
      "userId": "00115804931718551844"
     },
     "user_tz": -540
    },
    "id": "aa58b35f"
   },
   "outputs": [],
   "source": [
    "# 결측치 채우기 \n",
    "df3 = df.copy()\n",
    "# train 데이터\n",
    "for col in cols:\n",
    "  # 첫번째 인덱스가 0이 아닌경우 먼저 중앙값으로 결측치 채우기\n",
    "    for i in first_index:\n",
    "        if np.isnan(df3.loc[i,col])==True:\n",
    "            df3.loc[i, col] = median_dict[col]\n",
    " # 환자별 컬럼별로 만약 np.nan이 존재한다면, 이전 데이터의 값을 가지고 채운다. method='ffill\n",
    "    df3[col] =df3[col].fillna(method='ffill')\n",
    "\n",
    "valid_df3 = valid_df.copy()\n",
    "# valid 데이터\n",
    "for col in cols:\n",
    "    for i in first_indexv:\n",
    "        if np.isnan(valid_df3.loc[i,col])==True:\n",
    "            valid_df3.loc[i, col] = median_dict[col]\n",
    "    valid_df3[col] = valid_df3[col].fillna(method='ffill')\n",
    "\n",
    "test_df3 = test_df.copy()\n",
    "# test 데이터\n",
    "for col in cols:\n",
    "    for i in first_indext:\n",
    "        if np.isnan(test_df3.loc[i,col])==True:\n",
    "            test_df3.loc[i, col] = median_dict[col]\n",
    "    test_df3[col] = test_df3[col].fillna(method='ffill')"
   ]
  },
  {
   "cell_type": "code",
   "execution_count": null,
   "id": "2b256dcf",
   "metadata": {
    "colab": {
     "base_uri": "https://localhost:8080/",
     "height": 1000
    },
    "executionInfo": {
     "elapsed": 785,
     "status": "ok",
     "timestamp": 1684892055218,
     "user": {
      "displayName": "Seong Gyu Han",
      "userId": "00115804931718551844"
     },
     "user_tz": -540
    },
    "id": "2b256dcf",
    "outputId": "4bc2e71d-800f-441f-c54b-c5f2726eb234"
   },
   "outputs": [],
   "source": [
    "# 데이터 개수와 컬럼별 null 개수 확인\n",
    "print(len(df3))\n",
    "pd.DataFrame(df3.isnull().sum())\n",
    "\n",
    "print(len(valid_df3))\n",
    "pd.DataFrame(valid_df3.isnull().sum())\n",
    "\n",
    "print(len(test_df3))\n",
    "pd.DataFrame(test_df3.isnull().sum())"
   ]
  },
  {
   "cell_type": "code",
   "execution_count": 10,
   "id": "9822ab3e",
   "metadata": {
    "colab": {
     "base_uri": "https://localhost:8080/",
     "height": 1000
    },
    "executionInfo": {
     "elapsed": 388,
     "status": "ok",
     "timestamp": 1684898367936,
     "user": {
      "displayName": "Seong Gyu Han",
      "userId": "00115804931718551844"
     },
     "user_tz": -540
    },
    "id": "9822ab3e",
    "outputId": "84bb7c3d-c5cd-4f0a-b5dd-8db1cd6592f4"
   },
   "outputs": [
    {
     "data": {
      "text/html": [
       "<div>\n",
       "<style scoped>\n",
       "    .dataframe tbody tr th:only-of-type {\n",
       "        vertical-align: middle;\n",
       "    }\n",
       "\n",
       "    .dataframe tbody tr th {\n",
       "        vertical-align: top;\n",
       "    }\n",
       "\n",
       "    .dataframe thead th {\n",
       "        text-align: right;\n",
       "    }\n",
       "</style>\n",
       "<table border=\"1\" class=\"dataframe\">\n",
       "  <thead>\n",
       "    <tr style=\"text-align: right;\">\n",
       "      <th></th>\n",
       "      <th>0</th>\n",
       "    </tr>\n",
       "  </thead>\n",
       "  <tbody>\n",
       "    <tr>\n",
       "      <th>pid</th>\n",
       "      <td>0</td>\n",
       "    </tr>\n",
       "    <tr>\n",
       "      <th>age</th>\n",
       "      <td>0</td>\n",
       "    </tr>\n",
       "    <tr>\n",
       "      <th>Gender</th>\n",
       "      <td>0</td>\n",
       "    </tr>\n",
       "    <tr>\n",
       "      <th>ICUType</th>\n",
       "      <td>0</td>\n",
       "    </tr>\n",
       "    <tr>\n",
       "      <th>ALP</th>\n",
       "      <td>0</td>\n",
       "    </tr>\n",
       "    <tr>\n",
       "      <th>ALT</th>\n",
       "      <td>0</td>\n",
       "    </tr>\n",
       "    <tr>\n",
       "      <th>AST</th>\n",
       "      <td>0</td>\n",
       "    </tr>\n",
       "    <tr>\n",
       "      <th>Albumin</th>\n",
       "      <td>0</td>\n",
       "    </tr>\n",
       "    <tr>\n",
       "      <th>BUN</th>\n",
       "      <td>0</td>\n",
       "    </tr>\n",
       "    <tr>\n",
       "      <th>Bilirubin</th>\n",
       "      <td>0</td>\n",
       "    </tr>\n",
       "    <tr>\n",
       "      <th>Cholesterol</th>\n",
       "      <td>0</td>\n",
       "    </tr>\n",
       "    <tr>\n",
       "      <th>Creatinine</th>\n",
       "      <td>0</td>\n",
       "    </tr>\n",
       "    <tr>\n",
       "      <th>FiO2</th>\n",
       "      <td>0</td>\n",
       "    </tr>\n",
       "    <tr>\n",
       "      <th>GCS</th>\n",
       "      <td>0</td>\n",
       "    </tr>\n",
       "    <tr>\n",
       "      <th>Glucose</th>\n",
       "      <td>0</td>\n",
       "    </tr>\n",
       "    <tr>\n",
       "      <th>HCO3</th>\n",
       "      <td>0</td>\n",
       "    </tr>\n",
       "    <tr>\n",
       "      <th>HCT</th>\n",
       "      <td>0</td>\n",
       "    </tr>\n",
       "    <tr>\n",
       "      <th>HR</th>\n",
       "      <td>0</td>\n",
       "    </tr>\n",
       "    <tr>\n",
       "      <th>K</th>\n",
       "      <td>0</td>\n",
       "    </tr>\n",
       "    <tr>\n",
       "      <th>Lactate</th>\n",
       "      <td>0</td>\n",
       "    </tr>\n",
       "    <tr>\n",
       "      <th>Mg</th>\n",
       "      <td>0</td>\n",
       "    </tr>\n",
       "    <tr>\n",
       "      <th>Na</th>\n",
       "      <td>0</td>\n",
       "    </tr>\n",
       "    <tr>\n",
       "      <th>PaCO2</th>\n",
       "      <td>0</td>\n",
       "    </tr>\n",
       "    <tr>\n",
       "      <th>PaO2</th>\n",
       "      <td>0</td>\n",
       "    </tr>\n",
       "    <tr>\n",
       "      <th>Platelets</th>\n",
       "      <td>0</td>\n",
       "    </tr>\n",
       "    <tr>\n",
       "      <th>RR</th>\n",
       "      <td>0</td>\n",
       "    </tr>\n",
       "    <tr>\n",
       "      <th>SPO2</th>\n",
       "      <td>0</td>\n",
       "    </tr>\n",
       "    <tr>\n",
       "      <th>BT</th>\n",
       "      <td>0</td>\n",
       "    </tr>\n",
       "    <tr>\n",
       "      <th>TroponinI</th>\n",
       "      <td>0</td>\n",
       "    </tr>\n",
       "    <tr>\n",
       "      <th>TroponinT</th>\n",
       "      <td>0</td>\n",
       "    </tr>\n",
       "    <tr>\n",
       "      <th>Urine</th>\n",
       "      <td>0</td>\n",
       "    </tr>\n",
       "    <tr>\n",
       "      <th>WBC</th>\n",
       "      <td>0</td>\n",
       "    </tr>\n",
       "    <tr>\n",
       "      <th>pH</th>\n",
       "      <td>0</td>\n",
       "    </tr>\n",
       "    <tr>\n",
       "      <th>MechVent</th>\n",
       "      <td>0</td>\n",
       "    </tr>\n",
       "    <tr>\n",
       "      <th>survival</th>\n",
       "      <td>0</td>\n",
       "    </tr>\n",
       "    <tr>\n",
       "      <th>SBP</th>\n",
       "      <td>0</td>\n",
       "    </tr>\n",
       "    <tr>\n",
       "      <th>DBP</th>\n",
       "      <td>0</td>\n",
       "    </tr>\n",
       "    <tr>\n",
       "      <th>MBP</th>\n",
       "      <td>0</td>\n",
       "    </tr>\n",
       "    <tr>\n",
       "      <th>male</th>\n",
       "      <td>0</td>\n",
       "    </tr>\n",
       "    <tr>\n",
       "      <th>female</th>\n",
       "      <td>0</td>\n",
       "    </tr>\n",
       "    <tr>\n",
       "      <th>surv_los</th>\n",
       "      <td>0</td>\n",
       "    </tr>\n",
       "    <tr>\n",
       "      <th>labels</th>\n",
       "      <td>0</td>\n",
       "    </tr>\n",
       "  </tbody>\n",
       "</table>\n",
       "</div>"
      ],
      "text/plain": [
       "             0\n",
       "pid          0\n",
       "age          0\n",
       "Gender       0\n",
       "ICUType      0\n",
       "ALP          0\n",
       "ALT          0\n",
       "AST          0\n",
       "Albumin      0\n",
       "BUN          0\n",
       "Bilirubin    0\n",
       "Cholesterol  0\n",
       "Creatinine   0\n",
       "FiO2         0\n",
       "GCS          0\n",
       "Glucose      0\n",
       "HCO3         0\n",
       "HCT          0\n",
       "HR           0\n",
       "K            0\n",
       "Lactate      0\n",
       "Mg           0\n",
       "Na           0\n",
       "PaCO2        0\n",
       "PaO2         0\n",
       "Platelets    0\n",
       "RR           0\n",
       "SPO2         0\n",
       "BT           0\n",
       "TroponinI    0\n",
       "TroponinT    0\n",
       "Urine        0\n",
       "WBC          0\n",
       "pH           0\n",
       "MechVent     0\n",
       "survival     0\n",
       "SBP          0\n",
       "DBP          0\n",
       "MBP          0\n",
       "male         0\n",
       "female       0\n",
       "surv_los     0\n",
       "labels       0"
      ]
     },
     "execution_count": 10,
     "metadata": {},
     "output_type": "execute_result"
    }
   ],
   "source": [
    "# 데이터가 단 하나도 없는 column 'Tropl', 'TropT' 제외\n",
    "# 'rec_time'은 이후 padding에서 np.zeros에 string 데이터가 들어갈 수 없는 문제를 해결하기 위해 미리 제거\n",
    "df4 = df3.drop(columns=['Tropl', 'TropT', 'rec_time'])\n",
    "pd.DataFrame(df4.isnull().sum())\n",
    "\n",
    "valid_df4 = valid_df3.drop(columns=['Tropl', 'TropT', 'rec_time'])\n",
    "pd.DataFrame(valid_df4.isnull().sum())\n",
    "\n",
    "test_df4 = test_df3.drop(columns=['Tropl', 'TropT', 'rec_time'])\n",
    "pd.DataFrame(test_df4.isnull().sum())"
   ]
  },
  {
   "cell_type": "code",
   "execution_count": null,
   "id": "dec5aaf7",
   "metadata": {
    "colab": {
     "base_uri": "https://localhost:8080/",
     "height": 487
    },
    "executionInfo": {
     "elapsed": 6,
     "status": "ok",
     "timestamp": 1684827061050,
     "user": {
      "displayName": "Seong Gyu Han",
      "userId": "00115804931718551844"
     },
     "user_tz": -540
    },
    "id": "dec5aaf7",
    "outputId": "ee1de5e2-4b26-4800-a95c-ed4838ee1a65"
   },
   "outputs": [],
   "source": [
    "test_df4"
   ]
  },
  {
   "cell_type": "markdown",
   "id": "32226a84",
   "metadata": {
    "id": "32226a84"
   },
   "source": [
    "## 3. zero-padding\n",
    "- maxlen 보다 적은 수의 데이터를 가진 환자들은 zero-padding으로 데이터를 채워넣는다.\n",
    "- maxlen 보다 큰 수의 데이터는 maxlen 크기만큼 데이터를 자른다.\n",
    "- maxlen = 70\n",
    "- pre-zero-padding\n",
    "- np.zeros에 string이 들어갈 수 없기 때문에 rec_time column을 제외시키자.(앞선 코드에서 적용함.)\n",
    "- 여전히 남은 의문점: 측정되지 않았다고 모든 컬럼에 0.0을 넣어도 될까? 실제 그 수치가 아닐 수도 있는데? 모르는 것과 없는 것은 다를텐데 이를 어떻게 이해해야 할지."
   ]
  },
  {
   "cell_type": "code",
   "execution_count": 11,
   "id": "0db56770",
   "metadata": {
    "executionInfo": {
     "elapsed": 11595,
     "status": "ok",
     "timestamp": 1684898384369,
     "user": {
      "displayName": "Seong Gyu Han",
      "userId": "00115804931718551844"
     },
     "user_tz": -540
    },
    "id": "0db56770"
   },
   "outputs": [],
   "source": [
    "\n",
    "maxlen = 70\n",
    "# zero-padding 함수\n",
    "def zero_padding(dataframe, maxlen):\n",
    "    maxlen = maxlen\n",
    "    df4 = dataframe\n",
    "    col_len = len(df4.columns)\n",
    "    data = []\n",
    "    # 기본정보는 zero_padding에 모두 동일하게 적용되어야 함으로 따로 취급한다. 나머지는 모두 0.0으로 채운다.\n",
    "    basic_col = 'pid, age, Gender, ICUType, survival, male, female, surv_los, labels'\n",
    "    basic_col_list = basic_col.split(', ')\n",
    "    basic_col_indexer = df4.columns.get_indexer(basic_col_list)\n",
    "    basic_col_indexer\n",
    "\n",
    "    for pid in df4.pid.drop_duplicates().to_numpy():\n",
    "        if len(df4[df4.pid == pid]) >= maxlen:\n",
    "            dummy = df4[df4.pid == pid].to_numpy().tolist()\n",
    "            data.append(dummy[:maxlen])\n",
    "        else:\n",
    "            length = len(df4[df4.pid == pid])\n",
    "            base = np.zeros((maxlen, col_len))\n",
    "            for idx in basic_col_indexer:\n",
    "                base[:, idx] = df4[df4.pid == pid].iloc[0, idx]\n",
    "            # print(base.shape)\n",
    "            dummy = df4[df4.pid == pid].to_numpy()\n",
    "            # print(dummy.shape)\n",
    "            base[-length:] = dummy\n",
    "            # print(base.shape)\n",
    "            # base[:length, 0] = pid\n",
    "            # base[:length, -1] = dummy[0, -1] \n",
    "            data.append(base.tolist())\n",
    "    return data\n",
    "\n",
    "data = zero_padding(df4, maxlen)\n",
    "valid_data = zero_padding(valid_df4, maxlen)\n",
    "test_data = zero_padding(test_df4, maxlen)\n"
   ]
  },
  {
   "cell_type": "code",
   "execution_count": 12,
   "id": "761d4ad9",
   "metadata": {
    "colab": {
     "base_uri": "https://localhost:8080/",
     "height": 539
    },
    "executionInfo": {
     "elapsed": 681,
     "status": "ok",
     "timestamp": 1684898400572,
     "user": {
      "displayName": "Seong Gyu Han",
      "userId": "00115804931718551844"
     },
     "user_tz": -540
    },
    "id": "761d4ad9",
    "outputId": "4de95bc5-1b7b-4454-8ad5-ddf4ebe77a90",
    "scrolled": true
   },
   "outputs": [
    {
     "name": "stdout",
     "output_type": "stream",
     "text": [
      "226800 226800\n",
      "25200 25200\n",
      "28000 28000\n"
     ]
    },
    {
     "data": {
      "text/html": [
       "<div>\n",
       "<style scoped>\n",
       "    .dataframe tbody tr th:only-of-type {\n",
       "        vertical-align: middle;\n",
       "    }\n",
       "\n",
       "    .dataframe tbody tr th {\n",
       "        vertical-align: top;\n",
       "    }\n",
       "\n",
       "    .dataframe thead th {\n",
       "        text-align: right;\n",
       "    }\n",
       "</style>\n",
       "<table border=\"1\" class=\"dataframe\">\n",
       "  <thead>\n",
       "    <tr style=\"text-align: right;\">\n",
       "      <th></th>\n",
       "      <th>pid</th>\n",
       "      <th>age</th>\n",
       "      <th>Gender</th>\n",
       "      <th>ICUType</th>\n",
       "      <th>ALP</th>\n",
       "      <th>ALT</th>\n",
       "      <th>AST</th>\n",
       "      <th>Albumin</th>\n",
       "      <th>BUN</th>\n",
       "      <th>Bilirubin</th>\n",
       "      <th>Cholesterol</th>\n",
       "      <th>Creatinine</th>\n",
       "      <th>FiO2</th>\n",
       "      <th>GCS</th>\n",
       "      <th>Glucose</th>\n",
       "      <th>HCO3</th>\n",
       "      <th>HCT</th>\n",
       "      <th>HR</th>\n",
       "      <th>K</th>\n",
       "      <th>Lactate</th>\n",
       "      <th>Mg</th>\n",
       "      <th>Na</th>\n",
       "      <th>PaCO2</th>\n",
       "      <th>PaO2</th>\n",
       "      <th>Platelets</th>\n",
       "      <th>RR</th>\n",
       "      <th>SPO2</th>\n",
       "      <th>BT</th>\n",
       "      <th>TroponinI</th>\n",
       "      <th>TroponinT</th>\n",
       "      <th>Urine</th>\n",
       "      <th>WBC</th>\n",
       "      <th>pH</th>\n",
       "      <th>MechVent</th>\n",
       "      <th>survival</th>\n",
       "      <th>SBP</th>\n",
       "      <th>DBP</th>\n",
       "      <th>MBP</th>\n",
       "      <th>male</th>\n",
       "      <th>female</th>\n",
       "      <th>surv_los</th>\n",
       "      <th>labels</th>\n",
       "    </tr>\n",
       "  </thead>\n",
       "  <tbody>\n",
       "    <tr>\n",
       "      <th>0</th>\n",
       "      <td>135089.0</td>\n",
       "      <td>90.0</td>\n",
       "      <td>1.0</td>\n",
       "      <td>3.0</td>\n",
       "      <td>0.0</td>\n",
       "      <td>0.0</td>\n",
       "      <td>0.0</td>\n",
       "      <td>0.0</td>\n",
       "      <td>0.0</td>\n",
       "      <td>0.0</td>\n",
       "      <td>0.0</td>\n",
       "      <td>0.0</td>\n",
       "      <td>0.0</td>\n",
       "      <td>0.0</td>\n",
       "      <td>0.0</td>\n",
       "      <td>0.0</td>\n",
       "      <td>0.0</td>\n",
       "      <td>0.0</td>\n",
       "      <td>0.0</td>\n",
       "      <td>0.0</td>\n",
       "      <td>0.0</td>\n",
       "      <td>0.0</td>\n",
       "      <td>0.0</td>\n",
       "      <td>0.0</td>\n",
       "      <td>0.0</td>\n",
       "      <td>0.0</td>\n",
       "      <td>0.0</td>\n",
       "      <td>0.0</td>\n",
       "      <td>0.0</td>\n",
       "      <td>0.00</td>\n",
       "      <td>0.0</td>\n",
       "      <td>0.0</td>\n",
       "      <td>0.00</td>\n",
       "      <td>0.0</td>\n",
       "      <td>-1.0</td>\n",
       "      <td>0.0</td>\n",
       "      <td>0.0</td>\n",
       "      <td>0.0</td>\n",
       "      <td>1.0</td>\n",
       "      <td>0.0</td>\n",
       "      <td>-7.0</td>\n",
       "      <td>0.0</td>\n",
       "    </tr>\n",
       "    <tr>\n",
       "      <th>1</th>\n",
       "      <td>135089.0</td>\n",
       "      <td>90.0</td>\n",
       "      <td>1.0</td>\n",
       "      <td>3.0</td>\n",
       "      <td>0.0</td>\n",
       "      <td>0.0</td>\n",
       "      <td>0.0</td>\n",
       "      <td>0.0</td>\n",
       "      <td>0.0</td>\n",
       "      <td>0.0</td>\n",
       "      <td>0.0</td>\n",
       "      <td>0.0</td>\n",
       "      <td>0.0</td>\n",
       "      <td>0.0</td>\n",
       "      <td>0.0</td>\n",
       "      <td>0.0</td>\n",
       "      <td>0.0</td>\n",
       "      <td>0.0</td>\n",
       "      <td>0.0</td>\n",
       "      <td>0.0</td>\n",
       "      <td>0.0</td>\n",
       "      <td>0.0</td>\n",
       "      <td>0.0</td>\n",
       "      <td>0.0</td>\n",
       "      <td>0.0</td>\n",
       "      <td>0.0</td>\n",
       "      <td>0.0</td>\n",
       "      <td>0.0</td>\n",
       "      <td>0.0</td>\n",
       "      <td>0.00</td>\n",
       "      <td>0.0</td>\n",
       "      <td>0.0</td>\n",
       "      <td>0.00</td>\n",
       "      <td>0.0</td>\n",
       "      <td>-1.0</td>\n",
       "      <td>0.0</td>\n",
       "      <td>0.0</td>\n",
       "      <td>0.0</td>\n",
       "      <td>1.0</td>\n",
       "      <td>0.0</td>\n",
       "      <td>-7.0</td>\n",
       "      <td>0.0</td>\n",
       "    </tr>\n",
       "    <tr>\n",
       "      <th>2</th>\n",
       "      <td>135089.0</td>\n",
       "      <td>90.0</td>\n",
       "      <td>1.0</td>\n",
       "      <td>3.0</td>\n",
       "      <td>0.0</td>\n",
       "      <td>0.0</td>\n",
       "      <td>0.0</td>\n",
       "      <td>0.0</td>\n",
       "      <td>0.0</td>\n",
       "      <td>0.0</td>\n",
       "      <td>0.0</td>\n",
       "      <td>0.0</td>\n",
       "      <td>0.0</td>\n",
       "      <td>0.0</td>\n",
       "      <td>0.0</td>\n",
       "      <td>0.0</td>\n",
       "      <td>0.0</td>\n",
       "      <td>0.0</td>\n",
       "      <td>0.0</td>\n",
       "      <td>0.0</td>\n",
       "      <td>0.0</td>\n",
       "      <td>0.0</td>\n",
       "      <td>0.0</td>\n",
       "      <td>0.0</td>\n",
       "      <td>0.0</td>\n",
       "      <td>0.0</td>\n",
       "      <td>0.0</td>\n",
       "      <td>0.0</td>\n",
       "      <td>0.0</td>\n",
       "      <td>0.00</td>\n",
       "      <td>0.0</td>\n",
       "      <td>0.0</td>\n",
       "      <td>0.00</td>\n",
       "      <td>0.0</td>\n",
       "      <td>-1.0</td>\n",
       "      <td>0.0</td>\n",
       "      <td>0.0</td>\n",
       "      <td>0.0</td>\n",
       "      <td>1.0</td>\n",
       "      <td>0.0</td>\n",
       "      <td>-7.0</td>\n",
       "      <td>0.0</td>\n",
       "    </tr>\n",
       "    <tr>\n",
       "      <th>3</th>\n",
       "      <td>135089.0</td>\n",
       "      <td>90.0</td>\n",
       "      <td>1.0</td>\n",
       "      <td>3.0</td>\n",
       "      <td>0.0</td>\n",
       "      <td>0.0</td>\n",
       "      <td>0.0</td>\n",
       "      <td>0.0</td>\n",
       "      <td>0.0</td>\n",
       "      <td>0.0</td>\n",
       "      <td>0.0</td>\n",
       "      <td>0.0</td>\n",
       "      <td>0.0</td>\n",
       "      <td>0.0</td>\n",
       "      <td>0.0</td>\n",
       "      <td>0.0</td>\n",
       "      <td>0.0</td>\n",
       "      <td>0.0</td>\n",
       "      <td>0.0</td>\n",
       "      <td>0.0</td>\n",
       "      <td>0.0</td>\n",
       "      <td>0.0</td>\n",
       "      <td>0.0</td>\n",
       "      <td>0.0</td>\n",
       "      <td>0.0</td>\n",
       "      <td>0.0</td>\n",
       "      <td>0.0</td>\n",
       "      <td>0.0</td>\n",
       "      <td>0.0</td>\n",
       "      <td>0.00</td>\n",
       "      <td>0.0</td>\n",
       "      <td>0.0</td>\n",
       "      <td>0.00</td>\n",
       "      <td>0.0</td>\n",
       "      <td>-1.0</td>\n",
       "      <td>0.0</td>\n",
       "      <td>0.0</td>\n",
       "      <td>0.0</td>\n",
       "      <td>1.0</td>\n",
       "      <td>0.0</td>\n",
       "      <td>-7.0</td>\n",
       "      <td>0.0</td>\n",
       "    </tr>\n",
       "    <tr>\n",
       "      <th>4</th>\n",
       "      <td>135089.0</td>\n",
       "      <td>90.0</td>\n",
       "      <td>1.0</td>\n",
       "      <td>3.0</td>\n",
       "      <td>0.0</td>\n",
       "      <td>0.0</td>\n",
       "      <td>0.0</td>\n",
       "      <td>0.0</td>\n",
       "      <td>0.0</td>\n",
       "      <td>0.0</td>\n",
       "      <td>0.0</td>\n",
       "      <td>0.0</td>\n",
       "      <td>0.0</td>\n",
       "      <td>0.0</td>\n",
       "      <td>0.0</td>\n",
       "      <td>0.0</td>\n",
       "      <td>0.0</td>\n",
       "      <td>0.0</td>\n",
       "      <td>0.0</td>\n",
       "      <td>0.0</td>\n",
       "      <td>0.0</td>\n",
       "      <td>0.0</td>\n",
       "      <td>0.0</td>\n",
       "      <td>0.0</td>\n",
       "      <td>0.0</td>\n",
       "      <td>0.0</td>\n",
       "      <td>0.0</td>\n",
       "      <td>0.0</td>\n",
       "      <td>0.0</td>\n",
       "      <td>0.00</td>\n",
       "      <td>0.0</td>\n",
       "      <td>0.0</td>\n",
       "      <td>0.00</td>\n",
       "      <td>0.0</td>\n",
       "      <td>-1.0</td>\n",
       "      <td>0.0</td>\n",
       "      <td>0.0</td>\n",
       "      <td>0.0</td>\n",
       "      <td>1.0</td>\n",
       "      <td>0.0</td>\n",
       "      <td>-7.0</td>\n",
       "      <td>0.0</td>\n",
       "    </tr>\n",
       "    <tr>\n",
       "      <th>...</th>\n",
       "      <td>...</td>\n",
       "      <td>...</td>\n",
       "      <td>...</td>\n",
       "      <td>...</td>\n",
       "      <td>...</td>\n",
       "      <td>...</td>\n",
       "      <td>...</td>\n",
       "      <td>...</td>\n",
       "      <td>...</td>\n",
       "      <td>...</td>\n",
       "      <td>...</td>\n",
       "      <td>...</td>\n",
       "      <td>...</td>\n",
       "      <td>...</td>\n",
       "      <td>...</td>\n",
       "      <td>...</td>\n",
       "      <td>...</td>\n",
       "      <td>...</td>\n",
       "      <td>...</td>\n",
       "      <td>...</td>\n",
       "      <td>...</td>\n",
       "      <td>...</td>\n",
       "      <td>...</td>\n",
       "      <td>...</td>\n",
       "      <td>...</td>\n",
       "      <td>...</td>\n",
       "      <td>...</td>\n",
       "      <td>...</td>\n",
       "      <td>...</td>\n",
       "      <td>...</td>\n",
       "      <td>...</td>\n",
       "      <td>...</td>\n",
       "      <td>...</td>\n",
       "      <td>...</td>\n",
       "      <td>...</td>\n",
       "      <td>...</td>\n",
       "      <td>...</td>\n",
       "      <td>...</td>\n",
       "      <td>...</td>\n",
       "      <td>...</td>\n",
       "      <td>...</td>\n",
       "      <td>...</td>\n",
       "    </tr>\n",
       "    <tr>\n",
       "      <th>27995</th>\n",
       "      <td>135219.0</td>\n",
       "      <td>78.0</td>\n",
       "      <td>0.0</td>\n",
       "      <td>4.0</td>\n",
       "      <td>82.0</td>\n",
       "      <td>43.0</td>\n",
       "      <td>63.0</td>\n",
       "      <td>2.9</td>\n",
       "      <td>14.0</td>\n",
       "      <td>0.9</td>\n",
       "      <td>154.0</td>\n",
       "      <td>1.4</td>\n",
       "      <td>0.5</td>\n",
       "      <td>15.0</td>\n",
       "      <td>117.0</td>\n",
       "      <td>22.0</td>\n",
       "      <td>30.4</td>\n",
       "      <td>59.0</td>\n",
       "      <td>4.3</td>\n",
       "      <td>2.1</td>\n",
       "      <td>1.8</td>\n",
       "      <td>131.0</td>\n",
       "      <td>40.0</td>\n",
       "      <td>122.0</td>\n",
       "      <td>144.0</td>\n",
       "      <td>22.0</td>\n",
       "      <td>98.0</td>\n",
       "      <td>37.6</td>\n",
       "      <td>2.9</td>\n",
       "      <td>0.22</td>\n",
       "      <td>35.0</td>\n",
       "      <td>11.9</td>\n",
       "      <td>7.35</td>\n",
       "      <td>1.0</td>\n",
       "      <td>2011.0</td>\n",
       "      <td>134.0</td>\n",
       "      <td>51.0</td>\n",
       "      <td>79.0</td>\n",
       "      <td>1.0</td>\n",
       "      <td>0.0</td>\n",
       "      <td>2002.0</td>\n",
       "      <td>0.0</td>\n",
       "    </tr>\n",
       "    <tr>\n",
       "      <th>27996</th>\n",
       "      <td>135219.0</td>\n",
       "      <td>78.0</td>\n",
       "      <td>0.0</td>\n",
       "      <td>4.0</td>\n",
       "      <td>82.0</td>\n",
       "      <td>43.0</td>\n",
       "      <td>63.0</td>\n",
       "      <td>2.9</td>\n",
       "      <td>14.0</td>\n",
       "      <td>0.9</td>\n",
       "      <td>154.0</td>\n",
       "      <td>1.4</td>\n",
       "      <td>0.5</td>\n",
       "      <td>15.0</td>\n",
       "      <td>117.0</td>\n",
       "      <td>22.0</td>\n",
       "      <td>30.4</td>\n",
       "      <td>60.0</td>\n",
       "      <td>4.3</td>\n",
       "      <td>2.1</td>\n",
       "      <td>1.8</td>\n",
       "      <td>131.0</td>\n",
       "      <td>40.0</td>\n",
       "      <td>122.0</td>\n",
       "      <td>144.0</td>\n",
       "      <td>22.0</td>\n",
       "      <td>98.0</td>\n",
       "      <td>37.6</td>\n",
       "      <td>2.9</td>\n",
       "      <td>0.22</td>\n",
       "      <td>35.0</td>\n",
       "      <td>11.9</td>\n",
       "      <td>7.35</td>\n",
       "      <td>1.0</td>\n",
       "      <td>2011.0</td>\n",
       "      <td>132.0</td>\n",
       "      <td>50.0</td>\n",
       "      <td>78.0</td>\n",
       "      <td>1.0</td>\n",
       "      <td>0.0</td>\n",
       "      <td>2002.0</td>\n",
       "      <td>0.0</td>\n",
       "    </tr>\n",
       "    <tr>\n",
       "      <th>27997</th>\n",
       "      <td>135219.0</td>\n",
       "      <td>78.0</td>\n",
       "      <td>0.0</td>\n",
       "      <td>4.0</td>\n",
       "      <td>82.0</td>\n",
       "      <td>43.0</td>\n",
       "      <td>63.0</td>\n",
       "      <td>2.9</td>\n",
       "      <td>14.0</td>\n",
       "      <td>0.9</td>\n",
       "      <td>154.0</td>\n",
       "      <td>1.4</td>\n",
       "      <td>0.5</td>\n",
       "      <td>15.0</td>\n",
       "      <td>117.0</td>\n",
       "      <td>22.0</td>\n",
       "      <td>30.4</td>\n",
       "      <td>66.0</td>\n",
       "      <td>4.3</td>\n",
       "      <td>2.1</td>\n",
       "      <td>1.8</td>\n",
       "      <td>131.0</td>\n",
       "      <td>40.0</td>\n",
       "      <td>122.0</td>\n",
       "      <td>144.0</td>\n",
       "      <td>18.0</td>\n",
       "      <td>98.0</td>\n",
       "      <td>37.7</td>\n",
       "      <td>2.9</td>\n",
       "      <td>0.22</td>\n",
       "      <td>45.0</td>\n",
       "      <td>11.9</td>\n",
       "      <td>7.35</td>\n",
       "      <td>1.0</td>\n",
       "      <td>2011.0</td>\n",
       "      <td>139.0</td>\n",
       "      <td>54.0</td>\n",
       "      <td>84.0</td>\n",
       "      <td>1.0</td>\n",
       "      <td>0.0</td>\n",
       "      <td>2002.0</td>\n",
       "      <td>0.0</td>\n",
       "    </tr>\n",
       "    <tr>\n",
       "      <th>27998</th>\n",
       "      <td>135219.0</td>\n",
       "      <td>78.0</td>\n",
       "      <td>0.0</td>\n",
       "      <td>4.0</td>\n",
       "      <td>82.0</td>\n",
       "      <td>43.0</td>\n",
       "      <td>63.0</td>\n",
       "      <td>2.9</td>\n",
       "      <td>14.0</td>\n",
       "      <td>0.9</td>\n",
       "      <td>154.0</td>\n",
       "      <td>1.4</td>\n",
       "      <td>0.5</td>\n",
       "      <td>15.0</td>\n",
       "      <td>117.0</td>\n",
       "      <td>22.0</td>\n",
       "      <td>30.4</td>\n",
       "      <td>66.0</td>\n",
       "      <td>4.3</td>\n",
       "      <td>2.1</td>\n",
       "      <td>1.8</td>\n",
       "      <td>131.0</td>\n",
       "      <td>40.0</td>\n",
       "      <td>90.0</td>\n",
       "      <td>144.0</td>\n",
       "      <td>18.0</td>\n",
       "      <td>98.0</td>\n",
       "      <td>37.7</td>\n",
       "      <td>2.9</td>\n",
       "      <td>0.22</td>\n",
       "      <td>45.0</td>\n",
       "      <td>11.9</td>\n",
       "      <td>7.37</td>\n",
       "      <td>1.0</td>\n",
       "      <td>2011.0</td>\n",
       "      <td>139.0</td>\n",
       "      <td>54.0</td>\n",
       "      <td>84.0</td>\n",
       "      <td>1.0</td>\n",
       "      <td>0.0</td>\n",
       "      <td>2002.0</td>\n",
       "      <td>0.0</td>\n",
       "    </tr>\n",
       "    <tr>\n",
       "      <th>27999</th>\n",
       "      <td>135219.0</td>\n",
       "      <td>78.0</td>\n",
       "      <td>0.0</td>\n",
       "      <td>4.0</td>\n",
       "      <td>82.0</td>\n",
       "      <td>43.0</td>\n",
       "      <td>63.0</td>\n",
       "      <td>2.9</td>\n",
       "      <td>11.0</td>\n",
       "      <td>0.9</td>\n",
       "      <td>154.0</td>\n",
       "      <td>1.2</td>\n",
       "      <td>0.5</td>\n",
       "      <td>15.0</td>\n",
       "      <td>101.0</td>\n",
       "      <td>23.0</td>\n",
       "      <td>26.6</td>\n",
       "      <td>66.0</td>\n",
       "      <td>4.0</td>\n",
       "      <td>2.1</td>\n",
       "      <td>1.8</td>\n",
       "      <td>133.0</td>\n",
       "      <td>40.0</td>\n",
       "      <td>90.0</td>\n",
       "      <td>118.0</td>\n",
       "      <td>18.0</td>\n",
       "      <td>98.0</td>\n",
       "      <td>37.7</td>\n",
       "      <td>2.9</td>\n",
       "      <td>0.22</td>\n",
       "      <td>45.0</td>\n",
       "      <td>10.6</td>\n",
       "      <td>7.37</td>\n",
       "      <td>1.0</td>\n",
       "      <td>2011.0</td>\n",
       "      <td>139.0</td>\n",
       "      <td>54.0</td>\n",
       "      <td>84.0</td>\n",
       "      <td>1.0</td>\n",
       "      <td>0.0</td>\n",
       "      <td>2002.0</td>\n",
       "      <td>0.0</td>\n",
       "    </tr>\n",
       "  </tbody>\n",
       "</table>\n",
       "<p>28000 rows × 42 columns</p>\n",
       "</div>"
      ],
      "text/plain": [
       "            pid   age  Gender  ICUType   ALP   ALT   AST  Albumin   BUN   \n",
       "0      135089.0  90.0     1.0      3.0   0.0   0.0   0.0      0.0   0.0  \\\n",
       "1      135089.0  90.0     1.0      3.0   0.0   0.0   0.0      0.0   0.0   \n",
       "2      135089.0  90.0     1.0      3.0   0.0   0.0   0.0      0.0   0.0   \n",
       "3      135089.0  90.0     1.0      3.0   0.0   0.0   0.0      0.0   0.0   \n",
       "4      135089.0  90.0     1.0      3.0   0.0   0.0   0.0      0.0   0.0   \n",
       "...         ...   ...     ...      ...   ...   ...   ...      ...   ...   \n",
       "27995  135219.0  78.0     0.0      4.0  82.0  43.0  63.0      2.9  14.0   \n",
       "27996  135219.0  78.0     0.0      4.0  82.0  43.0  63.0      2.9  14.0   \n",
       "27997  135219.0  78.0     0.0      4.0  82.0  43.0  63.0      2.9  14.0   \n",
       "27998  135219.0  78.0     0.0      4.0  82.0  43.0  63.0      2.9  14.0   \n",
       "27999  135219.0  78.0     0.0      4.0  82.0  43.0  63.0      2.9  11.0   \n",
       "\n",
       "       Bilirubin  Cholesterol  Creatinine  FiO2   GCS  Glucose  HCO3   HCT   \n",
       "0            0.0          0.0         0.0   0.0   0.0      0.0   0.0   0.0  \\\n",
       "1            0.0          0.0         0.0   0.0   0.0      0.0   0.0   0.0   \n",
       "2            0.0          0.0         0.0   0.0   0.0      0.0   0.0   0.0   \n",
       "3            0.0          0.0         0.0   0.0   0.0      0.0   0.0   0.0   \n",
       "4            0.0          0.0         0.0   0.0   0.0      0.0   0.0   0.0   \n",
       "...          ...          ...         ...   ...   ...      ...   ...   ...   \n",
       "27995        0.9        154.0         1.4   0.5  15.0    117.0  22.0  30.4   \n",
       "27996        0.9        154.0         1.4   0.5  15.0    117.0  22.0  30.4   \n",
       "27997        0.9        154.0         1.4   0.5  15.0    117.0  22.0  30.4   \n",
       "27998        0.9        154.0         1.4   0.5  15.0    117.0  22.0  30.4   \n",
       "27999        0.9        154.0         1.2   0.5  15.0    101.0  23.0  26.6   \n",
       "\n",
       "         HR    K  Lactate   Mg     Na  PaCO2   PaO2  Platelets    RR  SPO2   \n",
       "0       0.0  0.0      0.0  0.0    0.0    0.0    0.0        0.0   0.0   0.0  \\\n",
       "1       0.0  0.0      0.0  0.0    0.0    0.0    0.0        0.0   0.0   0.0   \n",
       "2       0.0  0.0      0.0  0.0    0.0    0.0    0.0        0.0   0.0   0.0   \n",
       "3       0.0  0.0      0.0  0.0    0.0    0.0    0.0        0.0   0.0   0.0   \n",
       "4       0.0  0.0      0.0  0.0    0.0    0.0    0.0        0.0   0.0   0.0   \n",
       "...     ...  ...      ...  ...    ...    ...    ...        ...   ...   ...   \n",
       "27995  59.0  4.3      2.1  1.8  131.0   40.0  122.0      144.0  22.0  98.0   \n",
       "27996  60.0  4.3      2.1  1.8  131.0   40.0  122.0      144.0  22.0  98.0   \n",
       "27997  66.0  4.3      2.1  1.8  131.0   40.0  122.0      144.0  18.0  98.0   \n",
       "27998  66.0  4.3      2.1  1.8  131.0   40.0   90.0      144.0  18.0  98.0   \n",
       "27999  66.0  4.0      2.1  1.8  133.0   40.0   90.0      118.0  18.0  98.0   \n",
       "\n",
       "         BT  TroponinI  TroponinT  Urine   WBC    pH  MechVent  survival   \n",
       "0       0.0        0.0       0.00    0.0   0.0  0.00       0.0      -1.0  \\\n",
       "1       0.0        0.0       0.00    0.0   0.0  0.00       0.0      -1.0   \n",
       "2       0.0        0.0       0.00    0.0   0.0  0.00       0.0      -1.0   \n",
       "3       0.0        0.0       0.00    0.0   0.0  0.00       0.0      -1.0   \n",
       "4       0.0        0.0       0.00    0.0   0.0  0.00       0.0      -1.0   \n",
       "...     ...        ...        ...    ...   ...   ...       ...       ...   \n",
       "27995  37.6        2.9       0.22   35.0  11.9  7.35       1.0    2011.0   \n",
       "27996  37.6        2.9       0.22   35.0  11.9  7.35       1.0    2011.0   \n",
       "27997  37.7        2.9       0.22   45.0  11.9  7.35       1.0    2011.0   \n",
       "27998  37.7        2.9       0.22   45.0  11.9  7.37       1.0    2011.0   \n",
       "27999  37.7        2.9       0.22   45.0  10.6  7.37       1.0    2011.0   \n",
       "\n",
       "         SBP   DBP   MBP  male  female  surv_los  labels  \n",
       "0        0.0   0.0   0.0   1.0     0.0      -7.0     0.0  \n",
       "1        0.0   0.0   0.0   1.0     0.0      -7.0     0.0  \n",
       "2        0.0   0.0   0.0   1.0     0.0      -7.0     0.0  \n",
       "3        0.0   0.0   0.0   1.0     0.0      -7.0     0.0  \n",
       "4        0.0   0.0   0.0   1.0     0.0      -7.0     0.0  \n",
       "...      ...   ...   ...   ...     ...       ...     ...  \n",
       "27995  134.0  51.0  79.0   1.0     0.0    2002.0     0.0  \n",
       "27996  132.0  50.0  78.0   1.0     0.0    2002.0     0.0  \n",
       "27997  139.0  54.0  84.0   1.0     0.0    2002.0     0.0  \n",
       "27998  139.0  54.0  84.0   1.0     0.0    2002.0     0.0  \n",
       "27999  139.0  54.0  84.0   1.0     0.0    2002.0     0.0  \n",
       "\n",
       "[28000 rows x 42 columns]"
      ]
     },
     "execution_count": 12,
     "metadata": {},
     "output_type": "execute_result"
    }
   ],
   "source": [
    "# zero_padding 결과는 list 형식의 3차원 데이터(참고로 리스트에는 차원이 없지만 쉬운 이해를 위해 차원이라 함.)\n",
    "# train 데이터 결과를 dataframe으로 변환\n",
    "data = np.array(data)\n",
    "data = data.reshape((-1, len(df4.columns)))\n",
    "df5 = pd.DataFrame(data, columns=df4.columns)\n",
    "# train data 환자 수: 3240\n",
    "print(3240* 70, len(df5))\n",
    "df5\n",
    "\n",
    "valid_data = np.array(valid_data)\n",
    "valid_data = valid_data.reshape((-1, len(valid_df4.columns)))\n",
    "valid_df5 = pd.DataFrame(valid_data, columns=valid_df4.columns)\n",
    "# valid data 환자 수: 360\n",
    "print(360* 70, len(valid_df5))\n",
    "valid_df5\n",
    "\n",
    "test_data = np.array(test_data)\n",
    "test_data = test_data.reshape((-1, len(test_df4.columns)))\n",
    "test_df5 = pd.DataFrame(test_data, columns=df4.columns)\n",
    "# test\n",
    "# data 환자 수: 400\n",
    "print(400* 70, len(test_df5))\n",
    "test_df5"
   ]
  },
  {
   "cell_type": "code",
   "execution_count": 13,
   "id": "2e928dc1",
   "metadata": {
    "colab": {
     "base_uri": "https://localhost:8080/"
    },
    "executionInfo": {
     "elapsed": 448,
     "status": "ok",
     "timestamp": 1684896396618,
     "user": {
      "displayName": "Seong Gyu Han",
      "userId": "00115804931718551844"
     },
     "user_tz": -540
    },
    "id": "2e928dc1",
    "outputId": "dfa17adc-8974-44cb-c50d-5eb6d35229e5"
   },
   "outputs": [
    {
     "data": {
      "text/plain": [
       "labels\n",
       "0.0    348\n",
       "1.0     52\n",
       "Name: count, dtype: int64"
      ]
     },
     "execution_count": 13,
     "metadata": {},
     "output_type": "execute_result"
    }
   ],
   "source": [
    "# train 데이터의 생존자 수와 사망자 수 확인\n",
    "df5.shape\n",
    "df5.pid.value_counts()\n",
    "df5[['pid', 'labels']].drop_duplicates(['pid'])['labels'].value_counts()\n",
    "\n",
    "valid_df5.shape\n",
    "valid_df5.pid.value_counts()\n",
    "valid_df5[['pid', 'labels']].drop_duplicates(['pid'])['labels'].value_counts()\n",
    "\n",
    "test_df5.shape\n",
    "test_df5.pid.value_counts()\n",
    "test_df5[['pid', 'labels']].drop_duplicates(['pid'])['labels'].value_counts()"
   ]
  },
  {
   "cell_type": "markdown",
   "id": "9d49fd30",
   "metadata": {
    "id": "9d49fd30"
   },
   "source": [
    "## 4. Normalization\n",
    "- 기본 정보, categorical(숫자로 되어 있지만 명목 변수)은 정규화 대상에서 제외\n",
    "- minmax scaler를 활용함."
   ]
  },
  {
   "cell_type": "code",
   "execution_count": null,
   "id": "8sFbTd3MczIa",
   "metadata": {
    "colab": {
     "base_uri": "https://localhost:8080/"
    },
    "executionInfo": {
     "elapsed": 460,
     "status": "ok",
     "timestamp": 1684896399775,
     "user": {
      "displayName": "Seong Gyu Han",
      "userId": "00115804931718551844"
     },
     "user_tz": -540
    },
    "id": "8sFbTd3MczIa",
    "outputId": "c4e781d8-c510-4bac-d2b6-6b97cfdb3da0"
   },
   "outputs": [],
   "source": [
    "df5.columns"
   ]
  },
  {
   "cell_type": "code",
   "execution_count": null,
   "id": "f8615ae1",
   "metadata": {
    "scrolled": true
   },
   "outputs": [],
   "source": [
    "#!pip install scikit-learn"
   ]
  },
  {
   "cell_type": "code",
   "execution_count": 14,
   "id": "ylfah1JTaLvy",
   "metadata": {
    "executionInfo": {
     "elapsed": 1033,
     "status": "ok",
     "timestamp": 1684898478166,
     "user": {
      "displayName": "Seong Gyu Han",
      "userId": "00115804931718551844"
     },
     "user_tz": -540
    },
    "id": "ylfah1JTaLvy"
   },
   "outputs": [],
   "source": [
    "from sklearn.preprocessing import StandardScaler, MinMaxScaler"
   ]
  },
  {
   "cell_type": "code",
   "execution_count": 15,
   "id": "uhZLVApKaMC4",
   "metadata": {
    "executionInfo": {
     "elapsed": 263,
     "status": "ok",
     "timestamp": 1684898481378,
     "user": {
      "displayName": "Seong Gyu Han",
      "userId": "00115804931718551844"
     },
     "user_tz": -540
    },
    "id": "uhZLVApKaMC4"
   },
   "outputs": [],
   "source": [
    "df5_1= df5.drop(columns=['pid','age','Gender','ICUType' , 'male', 'female','survival', 'surv_los', 'labels'])\n",
    "test_df5_1 = test_df5.drop(columns=['pid','age','Gender','ICUType' , 'male', 'female','survival', 'surv_los', 'labels'])\n",
    "valid_df5_1 = valid_df5.drop(columns=['pid','age','Gender','ICUType' , 'male', 'female','survival', 'surv_los', 'labels'])\n",
    "scaler = MinMaxScaler()\n",
    "\n",
    "scale = MinMaxScaler()\n",
    "scale.fit(df5_1)\n",
    "df5_2 = scale.transform(df5_1)\n",
    "test_df5_2 = scale.transform(test_df5_1)\n",
    "valid_df5_2 = scale.transform(valid_df5_1)\n",
    "\n",
    "column_names = df5_1.columns\n",
    "df5_2 = pd.DataFrame(df5_2, columns=column_names)\n",
    "test_df5_2 = pd.DataFrame(test_df5_2, columns=column_names)\n",
    "valid_df5_2 = pd.DataFrame(valid_df5_2, columns=column_names)\n",
    "\n",
    "df5_2.insert(0, 'pid', df5['pid'])\n",
    "df5_2.insert(1, 'age', df5['age'])\n",
    "df5_2.insert(2, 'Gender', df5['Gender'])\n",
    "df5_2.insert(3, 'ICUType', df5['ICUType'])\n",
    "df5_2['male'] = df5['male']\n",
    "df5_2['female'] = df5['female']\n",
    "df5_2['survival'] = df5['survival']\n",
    "df5_2['surv_los'] = df5['surv_los']\n",
    "df5_2['labels'] = df5['labels']\n",
    "\n",
    "test_df5_2.insert(0, 'pid', test_df5['pid'])\n",
    "test_df5_2.insert(1, 'age', test_df5['age'])\n",
    "test_df5_2.insert(2, 'Gender', test_df5['Gender'])\n",
    "test_df5_2.insert(3, 'ICUType', test_df5['ICUType'])\n",
    "test_df5_2['male'] = test_df5['male']\n",
    "test_df5_2['female'] = test_df5['female']\n",
    "test_df5_2['survival'] = test_df5['survival']\n",
    "test_df5_2['surv_los'] = test_df5['surv_los']\n",
    "test_df5_2['labels'] = test_df5['labels']\n",
    "\n",
    "valid_df5_2.insert(0, 'pid', valid_df5['pid'])\n",
    "valid_df5_2.insert(1, 'age', valid_df5['age'])\n",
    "valid_df5_2.insert(2, 'Gender', valid_df5['Gender'])\n",
    "valid_df5_2.insert(3, 'ICUType', valid_df5['ICUType'])\n",
    "valid_df5_2['male'] = valid_df5['male']\n",
    "valid_df5_2['female'] = valid_df5['female']\n",
    "valid_df5_2['survival'] = valid_df5['survival']\n",
    "valid_df5_2['surv_los'] = valid_df5['surv_los']\n",
    "valid_df5_2['labels'] = valid_df5['labels']"
   ]
  },
  {
   "cell_type": "code",
   "execution_count": 16,
   "id": "kivvXhDGaMNd",
   "metadata": {
    "executionInfo": {
     "elapsed": 268,
     "status": "ok",
     "timestamp": 1684898509828,
     "user": {
      "displayName": "Seong Gyu Han",
      "userId": "00115804931718551844"
     },
     "user_tz": -540
    },
    "id": "kivvXhDGaMNd"
   },
   "outputs": [],
   "source": [
    "df5 = df5_2\n",
    "test_df5 = test_df5_2\n",
    "valid_df5 = valid_df5_2"
   ]
  },
  {
   "cell_type": "code",
   "execution_count": 17,
   "id": "818bdf9c",
   "metadata": {
    "colab": {
     "base_uri": "https://localhost:8080/",
     "height": 270
    },
    "executionInfo": {
     "elapsed": 481,
     "status": "ok",
     "timestamp": 1684896416894,
     "user": {
      "displayName": "Seong Gyu Han",
      "userId": "00115804931718551844"
     },
     "user_tz": -540
    },
    "id": "818bdf9c",
    "outputId": "b5370eb7-0755-476c-94f4-84c34dc71ff3"
   },
   "outputs": [
    {
     "data": {
      "text/html": [
       "<div>\n",
       "<style scoped>\n",
       "    .dataframe tbody tr th:only-of-type {\n",
       "        vertical-align: middle;\n",
       "    }\n",
       "\n",
       "    .dataframe tbody tr th {\n",
       "        vertical-align: top;\n",
       "    }\n",
       "\n",
       "    .dataframe thead th {\n",
       "        text-align: right;\n",
       "    }\n",
       "</style>\n",
       "<table border=\"1\" class=\"dataframe\">\n",
       "  <thead>\n",
       "    <tr style=\"text-align: right;\">\n",
       "      <th></th>\n",
       "      <th>pid</th>\n",
       "      <th>age</th>\n",
       "      <th>Gender</th>\n",
       "      <th>ICUType</th>\n",
       "      <th>ALP</th>\n",
       "      <th>ALT</th>\n",
       "      <th>AST</th>\n",
       "      <th>Albumin</th>\n",
       "      <th>BUN</th>\n",
       "      <th>Bilirubin</th>\n",
       "      <th>Cholesterol</th>\n",
       "      <th>Creatinine</th>\n",
       "      <th>FiO2</th>\n",
       "      <th>GCS</th>\n",
       "      <th>Glucose</th>\n",
       "      <th>HCO3</th>\n",
       "      <th>HCT</th>\n",
       "      <th>HR</th>\n",
       "      <th>K</th>\n",
       "      <th>Lactate</th>\n",
       "      <th>Mg</th>\n",
       "      <th>Na</th>\n",
       "      <th>PaCO2</th>\n",
       "      <th>PaO2</th>\n",
       "      <th>Platelets</th>\n",
       "      <th>RR</th>\n",
       "      <th>SPO2</th>\n",
       "      <th>BT</th>\n",
       "      <th>TroponinI</th>\n",
       "      <th>TroponinT</th>\n",
       "      <th>Urine</th>\n",
       "      <th>WBC</th>\n",
       "      <th>pH</th>\n",
       "      <th>MechVent</th>\n",
       "      <th>SBP</th>\n",
       "      <th>DBP</th>\n",
       "      <th>MBP</th>\n",
       "      <th>male</th>\n",
       "      <th>female</th>\n",
       "      <th>survival</th>\n",
       "      <th>surv_los</th>\n",
       "      <th>labels</th>\n",
       "    </tr>\n",
       "  </thead>\n",
       "  <tbody>\n",
       "    <tr>\n",
       "      <th>0</th>\n",
       "      <td>142219.0</td>\n",
       "      <td>52.0</td>\n",
       "      <td>0.0</td>\n",
       "      <td>3.0</td>\n",
       "      <td>0.046804</td>\n",
       "      <td>0.003749</td>\n",
       "      <td>0.003928</td>\n",
       "      <td>0.58</td>\n",
       "      <td>0.101523</td>\n",
       "      <td>0.018868</td>\n",
       "      <td>0.466667</td>\n",
       "      <td>0.045249</td>\n",
       "      <td>0.5</td>\n",
       "      <td>0.866667</td>\n",
       "      <td>0.111111</td>\n",
       "      <td>0.46</td>\n",
       "      <td>0.490291</td>\n",
       "      <td>0.286667</td>\n",
       "      <td>0.179039</td>\n",
       "      <td>0.071672</td>\n",
       "      <td>0.25974</td>\n",
       "      <td>0.785311</td>\n",
       "      <td>0.39</td>\n",
       "      <td>0.244</td>\n",
       "      <td>0.165234</td>\n",
       "      <td>0.487179</td>\n",
       "      <td>0.97</td>\n",
       "      <td>0.916528</td>\n",
       "      <td>0.058943</td>\n",
       "      <td>0.008832</td>\n",
       "      <td>0.006364</td>\n",
       "      <td>0.061333</td>\n",
       "      <td>0.010041</td>\n",
       "      <td>1.0</td>\n",
       "      <td>0.393220</td>\n",
       "      <td>0.216418</td>\n",
       "      <td>0.256667</td>\n",
       "      <td>1.0</td>\n",
       "      <td>0.0</td>\n",
       "      <td>-1.0</td>\n",
       "      <td>-8.0</td>\n",
       "      <td>0.0</td>\n",
       "    </tr>\n",
       "    <tr>\n",
       "      <th>1</th>\n",
       "      <td>142219.0</td>\n",
       "      <td>52.0</td>\n",
       "      <td>0.0</td>\n",
       "      <td>3.0</td>\n",
       "      <td>0.046804</td>\n",
       "      <td>0.003749</td>\n",
       "      <td>0.003928</td>\n",
       "      <td>0.58</td>\n",
       "      <td>0.101523</td>\n",
       "      <td>0.018868</td>\n",
       "      <td>0.466667</td>\n",
       "      <td>0.045249</td>\n",
       "      <td>0.8</td>\n",
       "      <td>0.866667</td>\n",
       "      <td>0.111111</td>\n",
       "      <td>0.46</td>\n",
       "      <td>0.490291</td>\n",
       "      <td>0.343333</td>\n",
       "      <td>0.179039</td>\n",
       "      <td>0.071672</td>\n",
       "      <td>0.25974</td>\n",
       "      <td>0.785311</td>\n",
       "      <td>0.39</td>\n",
       "      <td>0.244</td>\n",
       "      <td>0.165234</td>\n",
       "      <td>0.487179</td>\n",
       "      <td>0.97</td>\n",
       "      <td>0.916528</td>\n",
       "      <td>0.058943</td>\n",
       "      <td>0.008832</td>\n",
       "      <td>0.045455</td>\n",
       "      <td>0.061333</td>\n",
       "      <td>0.010041</td>\n",
       "      <td>1.0</td>\n",
       "      <td>0.393220</td>\n",
       "      <td>0.216418</td>\n",
       "      <td>0.256667</td>\n",
       "      <td>1.0</td>\n",
       "      <td>0.0</td>\n",
       "      <td>-1.0</td>\n",
       "      <td>-8.0</td>\n",
       "      <td>0.0</td>\n",
       "    </tr>\n",
       "    <tr>\n",
       "      <th>2</th>\n",
       "      <td>142219.0</td>\n",
       "      <td>52.0</td>\n",
       "      <td>0.0</td>\n",
       "      <td>3.0</td>\n",
       "      <td>0.046804</td>\n",
       "      <td>0.003749</td>\n",
       "      <td>0.003928</td>\n",
       "      <td>0.58</td>\n",
       "      <td>0.101523</td>\n",
       "      <td>0.018868</td>\n",
       "      <td>0.466667</td>\n",
       "      <td>0.045249</td>\n",
       "      <td>0.8</td>\n",
       "      <td>0.866667</td>\n",
       "      <td>0.111111</td>\n",
       "      <td>0.46</td>\n",
       "      <td>0.490291</td>\n",
       "      <td>0.333333</td>\n",
       "      <td>0.179039</td>\n",
       "      <td>0.071672</td>\n",
       "      <td>0.25974</td>\n",
       "      <td>0.785311</td>\n",
       "      <td>0.39</td>\n",
       "      <td>0.244</td>\n",
       "      <td>0.165234</td>\n",
       "      <td>0.487179</td>\n",
       "      <td>0.97</td>\n",
       "      <td>0.916528</td>\n",
       "      <td>0.058943</td>\n",
       "      <td>0.008832</td>\n",
       "      <td>0.045455</td>\n",
       "      <td>0.061333</td>\n",
       "      <td>0.010041</td>\n",
       "      <td>1.0</td>\n",
       "      <td>0.000000</td>\n",
       "      <td>0.000000</td>\n",
       "      <td>0.746667</td>\n",
       "      <td>1.0</td>\n",
       "      <td>0.0</td>\n",
       "      <td>-1.0</td>\n",
       "      <td>-8.0</td>\n",
       "      <td>0.0</td>\n",
       "    </tr>\n",
       "    <tr>\n",
       "      <th>3</th>\n",
       "      <td>142219.0</td>\n",
       "      <td>52.0</td>\n",
       "      <td>0.0</td>\n",
       "      <td>3.0</td>\n",
       "      <td>0.046804</td>\n",
       "      <td>0.003749</td>\n",
       "      <td>0.003928</td>\n",
       "      <td>0.58</td>\n",
       "      <td>0.101523</td>\n",
       "      <td>0.018868</td>\n",
       "      <td>0.466667</td>\n",
       "      <td>0.045249</td>\n",
       "      <td>0.8</td>\n",
       "      <td>0.866667</td>\n",
       "      <td>0.111111</td>\n",
       "      <td>0.46</td>\n",
       "      <td>0.490291</td>\n",
       "      <td>0.353333</td>\n",
       "      <td>0.179039</td>\n",
       "      <td>0.071672</td>\n",
       "      <td>0.25974</td>\n",
       "      <td>0.785311</td>\n",
       "      <td>0.39</td>\n",
       "      <td>0.244</td>\n",
       "      <td>0.165234</td>\n",
       "      <td>0.487179</td>\n",
       "      <td>0.97</td>\n",
       "      <td>0.916528</td>\n",
       "      <td>0.058943</td>\n",
       "      <td>0.008832</td>\n",
       "      <td>0.045455</td>\n",
       "      <td>0.061333</td>\n",
       "      <td>0.010041</td>\n",
       "      <td>1.0</td>\n",
       "      <td>0.000000</td>\n",
       "      <td>0.000000</td>\n",
       "      <td>0.450000</td>\n",
       "      <td>1.0</td>\n",
       "      <td>0.0</td>\n",
       "      <td>-1.0</td>\n",
       "      <td>-8.0</td>\n",
       "      <td>0.0</td>\n",
       "    </tr>\n",
       "    <tr>\n",
       "      <th>4</th>\n",
       "      <td>142219.0</td>\n",
       "      <td>52.0</td>\n",
       "      <td>0.0</td>\n",
       "      <td>3.0</td>\n",
       "      <td>0.046804</td>\n",
       "      <td>0.003749</td>\n",
       "      <td>0.003928</td>\n",
       "      <td>0.58</td>\n",
       "      <td>0.101523</td>\n",
       "      <td>0.018868</td>\n",
       "      <td>0.466667</td>\n",
       "      <td>0.045249</td>\n",
       "      <td>0.8</td>\n",
       "      <td>0.866667</td>\n",
       "      <td>0.111111</td>\n",
       "      <td>0.46</td>\n",
       "      <td>0.490291</td>\n",
       "      <td>0.350000</td>\n",
       "      <td>0.179039</td>\n",
       "      <td>0.071672</td>\n",
       "      <td>0.25974</td>\n",
       "      <td>0.785311</td>\n",
       "      <td>0.39</td>\n",
       "      <td>0.244</td>\n",
       "      <td>0.165234</td>\n",
       "      <td>0.487179</td>\n",
       "      <td>0.97</td>\n",
       "      <td>0.916528</td>\n",
       "      <td>0.058943</td>\n",
       "      <td>0.008832</td>\n",
       "      <td>0.040909</td>\n",
       "      <td>0.061333</td>\n",
       "      <td>0.010041</td>\n",
       "      <td>1.0</td>\n",
       "      <td>0.735593</td>\n",
       "      <td>0.402985</td>\n",
       "      <td>0.443333</td>\n",
       "      <td>1.0</td>\n",
       "      <td>0.0</td>\n",
       "      <td>-1.0</td>\n",
       "      <td>-8.0</td>\n",
       "      <td>0.0</td>\n",
       "    </tr>\n",
       "  </tbody>\n",
       "</table>\n",
       "</div>"
      ],
      "text/plain": [
       "        pid   age  Gender  ICUType       ALP       ALT       AST  Albumin   \n",
       "0  142219.0  52.0     0.0      3.0  0.046804  0.003749  0.003928     0.58  \\\n",
       "1  142219.0  52.0     0.0      3.0  0.046804  0.003749  0.003928     0.58   \n",
       "2  142219.0  52.0     0.0      3.0  0.046804  0.003749  0.003928     0.58   \n",
       "3  142219.0  52.0     0.0      3.0  0.046804  0.003749  0.003928     0.58   \n",
       "4  142219.0  52.0     0.0      3.0  0.046804  0.003749  0.003928     0.58   \n",
       "\n",
       "        BUN  Bilirubin  Cholesterol  Creatinine  FiO2       GCS   Glucose   \n",
       "0  0.101523   0.018868     0.466667    0.045249   0.5  0.866667  0.111111  \\\n",
       "1  0.101523   0.018868     0.466667    0.045249   0.8  0.866667  0.111111   \n",
       "2  0.101523   0.018868     0.466667    0.045249   0.8  0.866667  0.111111   \n",
       "3  0.101523   0.018868     0.466667    0.045249   0.8  0.866667  0.111111   \n",
       "4  0.101523   0.018868     0.466667    0.045249   0.8  0.866667  0.111111   \n",
       "\n",
       "   HCO3       HCT        HR         K   Lactate       Mg        Na  PaCO2   \n",
       "0  0.46  0.490291  0.286667  0.179039  0.071672  0.25974  0.785311   0.39  \\\n",
       "1  0.46  0.490291  0.343333  0.179039  0.071672  0.25974  0.785311   0.39   \n",
       "2  0.46  0.490291  0.333333  0.179039  0.071672  0.25974  0.785311   0.39   \n",
       "3  0.46  0.490291  0.353333  0.179039  0.071672  0.25974  0.785311   0.39   \n",
       "4  0.46  0.490291  0.350000  0.179039  0.071672  0.25974  0.785311   0.39   \n",
       "\n",
       "    PaO2  Platelets        RR  SPO2        BT  TroponinI  TroponinT     Urine   \n",
       "0  0.244   0.165234  0.487179  0.97  0.916528   0.058943   0.008832  0.006364  \\\n",
       "1  0.244   0.165234  0.487179  0.97  0.916528   0.058943   0.008832  0.045455   \n",
       "2  0.244   0.165234  0.487179  0.97  0.916528   0.058943   0.008832  0.045455   \n",
       "3  0.244   0.165234  0.487179  0.97  0.916528   0.058943   0.008832  0.045455   \n",
       "4  0.244   0.165234  0.487179  0.97  0.916528   0.058943   0.008832  0.040909   \n",
       "\n",
       "        WBC        pH  MechVent       SBP       DBP       MBP  male  female   \n",
       "0  0.061333  0.010041       1.0  0.393220  0.216418  0.256667   1.0     0.0  \\\n",
       "1  0.061333  0.010041       1.0  0.393220  0.216418  0.256667   1.0     0.0   \n",
       "2  0.061333  0.010041       1.0  0.000000  0.000000  0.746667   1.0     0.0   \n",
       "3  0.061333  0.010041       1.0  0.000000  0.000000  0.450000   1.0     0.0   \n",
       "4  0.061333  0.010041       1.0  0.735593  0.402985  0.443333   1.0     0.0   \n",
       "\n",
       "   survival  surv_los  labels  \n",
       "0      -1.0      -8.0     0.0  \n",
       "1      -1.0      -8.0     0.0  \n",
       "2      -1.0      -8.0     0.0  \n",
       "3      -1.0      -8.0     0.0  \n",
       "4      -1.0      -8.0     0.0  "
      ]
     },
     "execution_count": 17,
     "metadata": {},
     "output_type": "execute_result"
    }
   ],
   "source": [
    "df5.head()"
   ]
  },
  {
   "cell_type": "code",
   "execution_count": 18,
   "id": "6da3fad7",
   "metadata": {
    "colab": {
     "base_uri": "https://localhost:8080/",
     "height": 455
    },
    "executionInfo": {
     "elapsed": 458,
     "status": "ok",
     "timestamp": 1684898513023,
     "user": {
      "displayName": "Seong Gyu Han",
      "userId": "00115804931718551844"
     },
     "user_tz": -540
    },
    "id": "6da3fad7",
    "outputId": "825fad04-f01e-426b-e5c9-d79406871e9f"
   },
   "outputs": [
    {
     "data": {
      "text/plain": [
       "<Axes: xlabel='ICUType'>"
      ]
     },
     "execution_count": 18,
     "metadata": {},
     "output_type": "execute_result"
    },
    {
     "data": {
      "image/png": "[encoded data removed]",
      "text/plain": [
       "<Figure size 640x480 with 1 Axes>"
      ]
     },
     "metadata": {},
     "output_type": "display_data"
    }
   ],
   "source": [
    "import matplotlib.pyplot as plt\n",
    "\n",
    "bins = [i for i in range(1, 100, 5)]\n",
    "cats = pd.cut(df5.age, bins, labels=bins[:-1])\n",
    "cats.value_counts().plot.bar()\n",
    "\n",
    "icu_type = {1.: '관상동맥치료실', 2.: '심장수술회복실', 3.: '의료ICU', 4.: '외과ICU'}\n",
    "df5.ICUType.value_counts().plot.bar()"
   ]
  },
  {
   "cell_type": "code",
   "execution_count": null,
   "id": "071b26ba",
   "metadata": {
    "id": "071b26ba"
   },
   "outputs": [],
   "source": [
    "# y = df3.labels.copy()\n",
    "# X = df3.drop(columns=['labels'])\n",
    "# for i, col in enumerate(X.columns):\n",
    "#     X[col] = (X[col] - X[col].mean()) / X[col].std()\n",
    "#     # print(i)"
   ]
  },
  {
   "cell_type": "code",
   "execution_count": 19,
   "id": "3b7609e8",
   "metadata": {
    "colab": {
     "base_uri": "https://localhost:8080/"
    },
    "executionInfo": {
     "elapsed": 278,
     "status": "ok",
     "timestamp": 1684898516461,
     "user": {
      "displayName": "Seong Gyu Han",
      "userId": "00115804931718551844"
     },
     "user_tz": -540
    },
    "id": "3b7609e8",
    "outputId": "5ba6362a-1fea-47e3-c2e6-d3b570962cae"
   },
   "outputs": [
    {
     "data": {
      "text/plain": [
       "Gender\n",
       "1.0    127470\n",
       "0.0     99330\n",
       "Name: count, dtype: int64"
      ]
     },
     "execution_count": 19,
     "metadata": {},
     "output_type": "execute_result"
    }
   ],
   "source": [
    "# # Gender 중에 -1 값을 갖는 pid가 3개 있음.\n",
    "# print(df5[df5.Gender == -1.]['pid'].unique())\n",
    "\n",
    "# # 확인 결과 Gender {1:'male', 0:'female'}\n",
    "# print(df5[df5.Gender == 1]['male'])\n",
    "\n",
    "# # 확인 결과, Gender==-1은 male 인 것으로 판단되어 -1을 1로 치환함. \n",
    "# print(df5.Gender.value_counts())\n",
    "# # print(pd.DataFrame(df5[df5.Gender == -1]['female']))\n",
    "# print(pd.DataFrame(df5[df5.Gender == -1]['male']))\n",
    "\n",
    "df5.Gender.replace({-1.:1.0}, inplace=True)\n",
    "df5.Gender.value_counts()"
   ]
  },
  {
   "cell_type": "code",
   "execution_count": null,
   "id": "274fd20c",
   "metadata": {
    "colab": {
     "base_uri": "https://localhost:8080/",
     "height": 487
    },
    "executionInfo": {
     "elapsed": 272,
     "status": "ok",
     "timestamp": 1684898520195,
     "user": {
      "displayName": "Seong Gyu Han",
      "userId": "00115804931718551844"
     },
     "user_tz": -540
    },
    "id": "274fd20c",
    "outputId": "f897efd7-3ec7-4951-fc89-41e081b02077"
   },
   "outputs": [],
   "source": [
    "df5"
   ]
  },
  {
   "cell_type": "code",
   "execution_count": 20,
   "id": "f4107782",
   "metadata": {
    "colab": {
     "base_uri": "https://localhost:8080/"
    },
    "executionInfo": {
     "elapsed": 314,
     "status": "ok",
     "timestamp": 1684898522951,
     "user": {
      "displayName": "Seong Gyu Han",
      "userId": "00115804931718551844"
     },
     "user_tz": -540
    },
    "id": "f4107782",
    "outputId": "670b96b4-2ae2-4c36-a90a-82b6c5345321"
   },
   "outputs": [
    {
     "name": "stdout",
     "output_type": "stream",
     "text": [
      "42\n",
      "45\n",
      "False\n"
     ]
    }
   ],
   "source": [
    "# 'ICUType' 원-핫 인코딩\n",
    "df6 = pd.get_dummies(df5, columns=['ICUType'])\n",
    "print(len(df5.columns))\n",
    "print(len(df6.columns))\n",
    "print('ICUType' in df6.columns)\n",
    "\n",
    "valid_df6 = pd.get_dummies(valid_df5, columns=['ICUType'])\n",
    "# print(len(valid_df5.columns))\n",
    "# print(len(valid_df6.columns))\n",
    "# print('ICUType' in valid_df6.columns)\n",
    "\n",
    "test_df6 = pd.get_dummies(test_df5, columns=['ICUType'])\n",
    "# print(len(test_df5.columns))\n",
    "# print(len(test_df6.columns))\n",
    "# print('ICUType' in test_df6.columns)"
   ]
  },
  {
   "cell_type": "code",
   "execution_count": 21,
   "id": "a4a45665",
   "metadata": {
    "colab": {
     "base_uri": "https://localhost:8080/"
    },
    "executionInfo": {
     "elapsed": 291,
     "status": "ok",
     "timestamp": 1684898525814,
     "user": {
      "displayName": "Seong Gyu Han",
      "userId": "00115804931718551844"
     },
     "user_tz": -540
    },
    "id": "a4a45665",
    "outputId": "1639352d-0325-4c00-daed-ac8e4e49c4c4"
   },
   "outputs": [
    {
     "name": "stdout",
     "output_type": "stream",
     "text": [
      "[40]\n",
      "(226800,)\n",
      "(226800, 40)\n",
      "(25200,)\n",
      "(25200, 40)\n",
      "(28000,)\n",
      "(28000, 40)\n"
     ]
    }
   ],
   "source": [
    "# labels 컬럼 인덱스 찾기\n",
    "inx = test_df6.columns.get_indexer(['labels'])\n",
    "print(inx)\n",
    "\n",
    "# X, y 분리\n",
    "y_train = df6['labels']\n",
    "X_train= df6.drop(columns=['pid', 'Gender', 'survival', 'surv_los', 'labels'])\n",
    "X_train = X_train.astype(float)\n",
    "print(y_train.shape)\n",
    "print(X_train.shape)\n",
    "\n",
    "y_valid = valid_df6['labels']\n",
    "X_valid= valid_df6.drop(columns=['pid', 'Gender', 'survival', 'surv_los', 'labels'])\n",
    "X_valid = X_valid.astype(float)\n",
    "print(y_valid.shape)\n",
    "print(X_valid.shape)\n",
    "\n",
    "y_test = test_df6['labels']\n",
    "X_test= test_df6.drop(columns=['pid', 'Gender', 'survival', 'surv_los', 'labels'])\n",
    "X_test = X_test.astype(float)\n",
    "print(y_test.shape)\n",
    "print(X_test.shape)"
   ]
  },
  {
   "cell_type": "markdown",
   "id": "8160b068",
   "metadata": {
    "id": "8160b068"
   },
   "source": [
    "- X = tensor (batch_size * seq_len * dim)\n",
    "- Y = tensor (batch_size * 1)"
   ]
  },
  {
   "cell_type": "markdown",
   "id": "d8e9258a",
   "metadata": {
    "id": "d8e9258a"
   },
   "source": [
    "loss_func = binary cross entropy\n",
    "model = LSTM, GRU"
   ]
  },
  {
   "cell_type": "markdown",
   "id": "f7bd0a5d",
   "metadata": {
    "id": "f7bd0a5d"
   },
   "source": [
    "mews, news, sofa, apache-2"
   ]
  },
  {
   "cell_type": "markdown",
   "id": "8de003da",
   "metadata": {
    "id": "8de003da"
   },
   "source": [
    "결론 : AUROC가 rule-based 알고리즘들보다 더 잘나와야함"
   ]
  },
  {
   "cell_type": "code",
   "execution_count": 74,
   "id": "b811980e",
   "metadata": {},
   "outputs": [
    {
     "data": {
      "text/plain": [
       "(226800, 40)"
      ]
     },
     "execution_count": 74,
     "metadata": {},
     "output_type": "execute_result"
    }
   ],
   "source": [
    "X_train.shape"
   ]
  },
  {
   "cell_type": "code",
   "execution_count": 22,
   "id": "6dd09bdd",
   "metadata": {
    "executionInfo": {
     "elapsed": 261,
     "status": "ok",
     "timestamp": 1684898725687,
     "user": {
      "displayName": "Seong Gyu Han",
      "userId": "00115804931718551844"
     },
     "user_tz": -540
    },
    "id": "6dd09bdd"
   },
   "outputs": [],
   "source": [
    "from tensorflow import keras\n",
    "from tensorflow.keras.models import Sequential\n",
    "from tensorflow.keras.layers import Dense, Embedding, LSTM, Bidirectional, Dropout\n",
    "from keras.callbacks import ModelCheckpoint, EarlyStopping"
   ]
  },
  {
   "cell_type": "code",
   "execution_count": 56,
   "id": "b5f13334",
   "metadata": {
    "colab": {
     "base_uri": "https://localhost:8080/"
    },
    "executionInfo": {
     "elapsed": 1992,
     "status": "ok",
     "timestamp": 1684898731743,
     "user": {
      "displayName": "Seong Gyu Han",
      "userId": "00115804931718551844"
     },
     "user_tz": -540
    },
    "id": "b5f13334",
    "outputId": "08628ff7-0de1-43d3-cd3f-63a78d89d661"
   },
   "outputs": [
    {
     "name": "stdout",
     "output_type": "stream",
     "text": [
      "Model: \"sequential_3\"\n",
      "_________________________________________________________________\n",
      " Layer (type)                Output Shape              Param #   \n",
      "=================================================================\n",
      " embedding_3 (Embedding)     (None, 40, 128)           29030400  \n",
      "                                                                 \n",
      " bidirectional_7 (Bidirectio  (None, 40, 256)          263168    \n",
      " nal)                                                            \n",
      "                                                                 \n",
      " dropout_7 (Dropout)         (None, 40, 256)           0         \n",
      "                                                                 \n",
      " bidirectional_8 (Bidirectio  (None, 40, 256)          394240    \n",
      " nal)                                                            \n",
      "                                                                 \n",
      " dropout_8 (Dropout)         (None, 40, 256)           0         \n",
      "                                                                 \n",
      " bidirectional_9 (Bidirectio  (None, 256)              394240    \n",
      " nal)                                                            \n",
      "                                                                 \n",
      " dropout_9 (Dropout)         (None, 256)               0         \n",
      "                                                                 \n",
      " dense_9 (Dense)             (None, 128)               32896     \n",
      "                                                                 \n",
      " dense_10 (Dense)            (None, 128)               16512     \n",
      "                                                                 \n",
      " dense_11 (Dense)            (None, 1)                 129       \n",
      "                                                                 \n",
      "=================================================================\n",
      "Total params: 30,131,585\n",
      "Trainable params: 30,131,585\n",
      "Non-trainable params: 0\n",
      "_________________________________________________________________\n"
     ]
    }
   ],
   "source": [
    "# Create the Sequential model\n",
    "model = Sequential()\n",
    "\n",
    "\n",
    "Earlystopping = EarlyStopping(monitor='val_loss',  patience=10)      \n",
    "\n",
    "# Add the embedding layer\n",
    "# model.add(Embedding(input_dim, output_dim, input_length=input_length))\n",
    "model.add(Embedding(226800, 128, input_length=40))\n",
    "\n",
    "# Add the Bidirectional LSTM layers\n",
    "model.add(Bidirectional(LSTM(128, return_sequences=True)))\n",
    "model.add(Dropout(0.5))\n",
    "\n",
    "model.add(Bidirectional(LSTM(128, return_sequences=True)))\n",
    "model.add(Dropout(0.5))\n",
    "\n",
    "model.add(Bidirectional(LSTM(128)))\n",
    "model.add(Dropout(0.5))\n",
    "\n",
    "# Add the fully connected layers\n",
    "model.add(Dense(128, activation='relu'))\n",
    "model.add(Dense(128, activation='relu'))\n",
    "# model.add(Dense(128, activation='relu'))\n",
    "\n",
    "# Add the output layer\n",
    "model.add(Dense(1, activation='sigmoid'))\n",
    "\n",
    "model.summary()"
   ]
  },
  {
   "cell_type": "code",
   "execution_count": 57,
   "id": "3bc69977",
   "metadata": {
    "executionInfo": {
     "elapsed": 376,
     "status": "ok",
     "timestamp": 1684898735963,
     "user": {
      "displayName": "Seong Gyu Han",
      "userId": "00115804931718551844"
     },
     "user_tz": -540
    },
    "id": "3bc69977"
   },
   "outputs": [],
   "source": [
    "# Compile the model\n",
    "model.compile(loss='binary_crossentropy', optimizer='adam', metrics=['accuracy'])"
   ]
  },
  {
   "cell_type": "code",
   "execution_count": 58,
   "id": "6ba49601",
   "metadata": {
    "colab": {
     "base_uri": "https://localhost:8080/",
     "height": 1000
    },
    "executionInfo": {
     "elapsed": 23770,
     "status": "error",
     "timestamp": 1684898761738,
     "user": {
      "displayName": "Seong Gyu Han",
      "userId": "00115804931718551844"
     },
     "user_tz": -540
    },
    "id": "6ba49601",
    "outputId": "8ab3c683-91a6-425a-d93a-5b26190f42a0",
    "scrolled": true
   },
   "outputs": [
    {
     "name": "stdout",
     "output_type": "stream",
     "text": [
      "3240/3240 [==============================] - 140s 42ms/step - loss: 0.3602 - accuracy: 0.8681 - val_loss: 0.4251 - val_accuracy: 0.8638\n"
     ]
    }
   ],
   "source": [
    "# Training\n",
    "h = model.fit(X_train, y_train, epochs=1, batch_size=70, validation_data=(X_valid, y_valid), callbacks=[Earlystopping])"
   ]
  },
  {
   "cell_type": "code",
   "execution_count": 39,
   "id": "1ed57809",
   "metadata": {
    "colab": {
     "base_uri": "https://localhost:8080/"
    },
    "executionInfo": {
     "elapsed": 12439,
     "status": "ok",
     "timestamp": 1684887052478,
     "user": {
      "displayName": "Seong Gyu Han",
      "userId": "00115804931718551844"
     },
     "user_tz": -540
    },
    "id": "1ed57809",
    "outputId": "e071e08c-bbe2-4585-f355-1ea30a8c29ee"
   },
   "outputs": [
    {
     "name": "stdout",
     "output_type": "stream",
     "text": [
      "875/875 [==============================] - 11s 11ms/step - loss: 0.3754 - accuracy: 0.8700\n"
     ]
    },
    {
     "data": {
      "text/plain": [
       "[0.3753715753555298, 0.8700000047683716]"
      ]
     },
     "execution_count": 39,
     "metadata": {},
     "output_type": "execute_result"
    }
   ],
   "source": [
    "# evaluate\n",
    "model.evaluate(X_test, y_test)"
   ]
  },
  {
   "cell_type": "code",
   "execution_count": 59,
   "id": "05b5cab2",
   "metadata": {
    "executionInfo": {
     "elapsed": 1109,
     "status": "ok",
     "timestamp": 1684887059621,
     "user": {
      "displayName": "Seong Gyu Han",
      "userId": "00115804931718551844"
     },
     "user_tz": -540
    },
    "id": "05b5cab2"
   },
   "outputs": [],
   "source": [
    "from sklearn.metrics import roc_auc_score"
   ]
  },
  {
   "cell_type": "code",
   "execution_count": 60,
   "id": "BFNsIWTezvXe",
   "metadata": {
    "colab": {
     "base_uri": "https://localhost:8080/"
    },
    "executionInfo": {
     "elapsed": 8858,
     "status": "ok",
     "timestamp": 1684887070892,
     "user": {
      "displayName": "Seong Gyu Han",
      "userId": "00115804931718551844"
     },
     "user_tz": -540
    },
    "id": "BFNsIWTezvXe",
    "outputId": "0ef2de75-a66f-4689-afb1-a89c33af99bc"
   },
   "outputs": [
    {
     "name": "stdout",
     "output_type": "stream",
     "text": [
      "875/875 [==============================] - 10s 10ms/step\n"
     ]
    }
   ],
   "source": [
    "pre = model.predict(X_test)"
   ]
  },
  {
   "cell_type": "code",
   "execution_count": 61,
   "id": "7e230158",
   "metadata": {},
   "outputs": [
    {
     "data": {
      "text/plain": [
       "array([[0.16706595],\n",
       "       [0.16706595],\n",
       "       [0.16706595],\n",
       "       ...,\n",
       "       [0.01713394],\n",
       "       [0.01713394],\n",
       "       [0.01713394]], dtype=float32)"
      ]
     },
     "execution_count": 61,
     "metadata": {},
     "output_type": "execute_result"
    }
   ],
   "source": [
    "pre"
   ]
  },
  {
   "cell_type": "code",
   "execution_count": 62,
   "id": "_xaRUQvczvfW",
   "metadata": {
    "colab": {
     "base_uri": "https://localhost:8080/"
    },
    "executionInfo": {
     "elapsed": 549,
     "status": "ok",
     "timestamp": 1684887075954,
     "user": {
      "displayName": "Seong Gyu Han",
      "userId": "00115804931718551844"
     },
     "user_tz": -540
    },
    "id": "_xaRUQvczvfW",
    "outputId": "2e27ac1a-062a-46d3-da4e-27180b2d3898"
   },
   "outputs": [
    {
     "data": {
      "text/plain": [
       "0.6917569842923907"
      ]
     },
     "execution_count": 62,
     "metadata": {},
     "output_type": "execute_result"
    }
   ],
   "source": [
    "roc_auc_score(y_test, pre)"
   ]
  },
  {
   "cell_type": "code",
   "execution_count": 44,
   "id": "Uu8TWC4bzviF",
   "metadata": {
    "executionInfo": {
     "elapsed": 562,
     "status": "ok",
     "timestamp": 1684887082966,
     "user": {
      "displayName": "Seong Gyu Han",
      "userId": "00115804931718551844"
     },
     "user_tz": -540
    },
    "id": "Uu8TWC4bzviF"
   },
   "outputs": [],
   "source": [
    "import matplotlib.pyplot as plt\n",
    "from sklearn.metrics import roc_curve, auc"
   ]
  },
  {
   "cell_type": "code",
   "execution_count": 63,
   "id": "OCFZwgaUzvlC",
   "metadata": {
    "colab": {
     "base_uri": "https://localhost:8080/",
     "height": 472
    },
    "executionInfo": {
     "elapsed": 1568,
     "status": "ok",
     "timestamp": 1684887086614,
     "user": {
      "displayName": "Seong Gyu Han",
      "userId": "00115804931718551844"
     },
     "user_tz": -540
    },
    "id": "OCFZwgaUzvlC",
    "outputId": "970c70b5-cef9-4f3e-c790-21842c4686d7"
   },
   "outputs": [
    {
     "data": {
      "image/png": "[encoded data removed]",
      "text/plain": [
       "<Figure size 640x480 with 1 Axes>"
      ]
     },
     "metadata": {},
     "output_type": "display_data"
    }
   ],
   "source": [
    "fpr, tpr, thresholds = roc_curve(y_test, pre)\n",
    "roc_auc = auc(fpr, tpr)\n",
    "# Step 5: Plot the ROC curve\n",
    "plt.plot(fpr, tpr, color='r', label='model (area = %0.3f)' % roc_auc)\n",
    "# Step 6: Add labels and legend\n",
    "plt.xlabel('False Positive Rate')\n",
    "plt.ylabel('True Positive Rate')\n",
    "plt.title('Receiver Operating Characteristic')\n",
    "plt.legend(loc='lower right')\n",
    "\n",
    "# Step 7: Show the plot\n",
    "plt.show()"
   ]
  },
  {
   "cell_type": "code",
   "execution_count": 64,
   "id": "E9fop1hBzvn2",
   "metadata": {
    "executionInfo": {
     "elapsed": 350,
     "status": "ok",
     "timestamp": 1684887096559,
     "user": {
      "displayName": "Seong Gyu Han",
      "userId": "00115804931718551844"
     },
     "user_tz": -540
    },
    "id": "E9fop1hBzvn2"
   },
   "outputs": [],
   "source": [
    " test_df6['pre'] = pre\n",
    " test_df6['pre_max'] = test_df6.groupby('pid')['pre'].transform(np.max)"
   ]
  },
  {
   "cell_type": "code",
   "execution_count": 65,
   "id": "wgBGY1NWzvqz",
   "metadata": {
    "executionInfo": {
     "elapsed": 3,
     "status": "ok",
     "timestamp": 1684887099452,
     "user": {
      "displayName": "Seong Gyu Han",
      "userId": "00115804931718551844"
     },
     "user_tz": -540
    },
    "id": "wgBGY1NWzvqz"
   },
   "outputs": [],
   "source": [
    "pre_max = test_df6['pre_max']"
   ]
  },
  {
   "cell_type": "code",
   "execution_count": 66,
   "id": "_lCw2J0n6YFE",
   "metadata": {
    "colab": {
     "base_uri": "https://localhost:8080/"
    },
    "executionInfo": {
     "elapsed": 374,
     "status": "ok",
     "timestamp": 1684887102145,
     "user": {
      "displayName": "Seong Gyu Han",
      "userId": "00115804931718551844"
     },
     "user_tz": -540
    },
    "id": "_lCw2J0n6YFE",
    "outputId": "526c68b0-e0e7-4cda-bbae-50b2c050149b"
   },
   "outputs": [
    {
     "data": {
      "text/plain": [
       "0        0.273573\n",
       "1        0.273573\n",
       "2        0.273573\n",
       "3        0.273573\n",
       "4        0.273573\n",
       "           ...   \n",
       "27995    0.191955\n",
       "27996    0.191955\n",
       "27997    0.191955\n",
       "27998    0.191955\n",
       "27999    0.191955\n",
       "Name: pre_max, Length: 28000, dtype: float32"
      ]
     },
     "execution_count": 66,
     "metadata": {},
     "output_type": "execute_result"
    }
   ],
   "source": [
    "pre_max"
   ]
  },
  {
   "cell_type": "code",
   "execution_count": 67,
   "id": "Gi7sM-mVzvt1",
   "metadata": {
    "colab": {
     "base_uri": "https://localhost:8080/"
    },
    "executionInfo": {
     "elapsed": 408,
     "status": "ok",
     "timestamp": 1684887104978,
     "user": {
      "displayName": "Seong Gyu Han",
      "userId": "00115804931718551844"
     },
     "user_tz": -540
    },
    "id": "Gi7sM-mVzvt1",
    "outputId": "77fb3a09-bfff-46b0-ef99-5b2b318bc348"
   },
   "outputs": [
    {
     "data": {
      "text/plain": [
       "0.6508344385499558"
      ]
     },
     "execution_count": 67,
     "metadata": {},
     "output_type": "execute_result"
    }
   ],
   "source": [
    "roc_auc_score(y_test, pre_max)"
   ]
  },
  {
   "cell_type": "code",
   "execution_count": 68,
   "id": "VSIVbVyPzv3C",
   "metadata": {
    "colab": {
     "base_uri": "https://localhost:8080/",
     "height": 472
    },
    "executionInfo": {
     "elapsed": 3,
     "status": "ok",
     "timestamp": 1684887108370,
     "user": {
      "displayName": "Seong Gyu Han",
      "userId": "00115804931718551844"
     },
     "user_tz": -540
    },
    "id": "VSIVbVyPzv3C",
    "outputId": "43eecd71-34b5-4d8a-f48a-3d1bfd83a67d"
   },
   "outputs": [
    {
     "data": {
      "image/png": "[encoded data removed]",
      "text/plain": [
       "<Figure size 640x480 with 1 Axes>"
      ]
     },
     "metadata": {},
     "output_type": "display_data"
    }
   ],
   "source": [
    "fpr, tpr, thresholds = roc_curve(y_test, pre_max)\n",
    "roc_auc = auc(fpr, tpr)\n",
    "# Step 5: Plot the ROC curve\n",
    "plt.plot(fpr, tpr, color='r', label='model_max (area = %0.3f)' % roc_auc)\n",
    "# Step 6: Add labels and legend\n",
    "plt.xlabel('False Positive Rate')\n",
    "plt.ylabel('True Positive Rate')\n",
    "plt.title('Receiver Operating Characteristic')\n",
    "plt.legend(loc='lower right')\n",
    "\n",
    "# Step 7: Show the plot\n",
    "plt.show()"
   ]
  },
  {
   "cell_type": "code",
   "execution_count": 69,
   "id": "i9S5LkTq55d_",
   "metadata": {
    "executionInfo": {
     "elapsed": 374,
     "status": "ok",
     "timestamp": 1684887135231,
     "user": {
      "displayName": "Seong Gyu Han",
      "userId": "00115804931718551844"
     },
     "user_tz": -540
    },
    "id": "i9S5LkTq55d_"
   },
   "outputs": [],
   "source": [
    "test_df6['pre_mean'] = test_df6.groupby('pid')['pre'].transform(np.mean)"
   ]
  },
  {
   "cell_type": "code",
   "execution_count": 70,
   "id": "h3hHAKRA56Lb",
   "metadata": {
    "executionInfo": {
     "elapsed": 567,
     "status": "ok",
     "timestamp": 1684887137428,
     "user": {
      "displayName": "Seong Gyu Han",
      "userId": "00115804931718551844"
     },
     "user_tz": -540
    },
    "id": "h3hHAKRA56Lb"
   },
   "outputs": [],
   "source": [
    "pre_mean = test_df6['pre_mean']"
   ]
  },
  {
   "cell_type": "code",
   "execution_count": 71,
   "id": "1DYa_RaQ56PD",
   "metadata": {
    "colab": {
     "base_uri": "https://localhost:8080/"
    },
    "executionInfo": {
     "elapsed": 348,
     "status": "ok",
     "timestamp": 1684887139942,
     "user": {
      "displayName": "Seong Gyu Han",
      "userId": "00115804931718551844"
     },
     "user_tz": -540
    },
    "id": "1DYa_RaQ56PD",
    "outputId": "fce82fdc-88dd-4d98-9886-4757386f8d9f"
   },
   "outputs": [
    {
     "data": {
      "text/plain": [
       "0        0.214665\n",
       "1        0.214665\n",
       "2        0.214665\n",
       "3        0.214665\n",
       "4        0.214665\n",
       "           ...   \n",
       "27995    0.054952\n",
       "27996    0.054952\n",
       "27997    0.054952\n",
       "27998    0.054952\n",
       "27999    0.054952\n",
       "Name: pre_mean, Length: 28000, dtype: float32"
      ]
     },
     "execution_count": 71,
     "metadata": {},
     "output_type": "execute_result"
    }
   ],
   "source": [
    "pre_mean"
   ]
  },
  {
   "cell_type": "code",
   "execution_count": 72,
   "id": "oNMSaJ3Y56SL",
   "metadata": {
    "colab": {
     "base_uri": "https://localhost:8080/"
    },
    "executionInfo": {
     "elapsed": 2,
     "status": "ok",
     "timestamp": 1684887143381,
     "user": {
      "displayName": "Seong Gyu Han",
      "userId": "00115804931718551844"
     },
     "user_tz": -540
    },
    "id": "oNMSaJ3Y56SL",
    "outputId": "c80613b5-821d-4554-cbe0-98567ce144b4"
   },
   "outputs": [
    {
     "data": {
      "text/plain": [
       "0.7036361626878869"
      ]
     },
     "execution_count": 72,
     "metadata": {},
     "output_type": "execute_result"
    }
   ],
   "source": [
    "roc_auc_score(y_test, pre_mean)"
   ]
  },
  {
   "cell_type": "code",
   "execution_count": 73,
   "id": "NRrQSTNF56VT",
   "metadata": {
    "colab": {
     "base_uri": "https://localhost:8080/",
     "height": 472
    },
    "executionInfo": {
     "elapsed": 1298,
     "status": "ok",
     "timestamp": 1684887181267,
     "user": {
      "displayName": "Seong Gyu Han",
      "userId": "00115804931718551844"
     },
     "user_tz": -540
    },
    "id": "NRrQSTNF56VT",
    "outputId": "0ec04ed3-0b09-4c70-88aa-c1b72c53f1d9"
   },
   "outputs": [
    {
     "data": {
      "image/png": "[encoded data removed]",
      "text/plain": [
       "<Figure size 640x480 with 1 Axes>"
      ]
     },
     "metadata": {},
     "output_type": "display_data"
    }
   ],
   "source": [
    "fpr, tpr, thresholds = roc_curve(y_test, pre_mean)\n",
    "roc_auc = auc(fpr, tpr)\n",
    "# Step 5: Plot the ROC curve\n",
    "plt.plot(fpr, tpr, color='r', label='model_mean (area = %0.3f)' % roc_auc)\n",
    "# Step 6: Add labels and legend\n",
    "plt.xlabel('False Positive Rate')\n",
    "plt.ylabel('True Positive Rate')\n",
    "plt.title('Receiver Operating Characteristic')\n",
    "plt.legend(loc='lower right')\n",
    "\n",
    "# Step 7: Show the plot\n",
    "plt.show()"
   ]
  }
 ],
 "metadata": {
  "accelerator": "GPU",
  "colab": {
   "gpuType": "T4",
   "provenance": []
  },
  "gpuClass": "standard",
  "kernelspec": {
   "display_name": "Python 3 (ipykernel)",
   "language": "python",
   "name": "python3"
  },
  "language_info": {
   "codemirror_mode": {
    "name": "ipython",
    "version": 3
   },
   "file_extension": ".py",
   "mimetype": "text/x-python",
   "name": "python",
   "nbconvert_exporter": "python",
   "pygments_lexer": "ipython3",
   "version": "3.10.10"
  },
  "toc": {
   "base_numbering": 1,
   "nav_menu": {},
   "number_sections": true,
   "sideBar": true,
   "skip_h1_title": false,
   "title_cell": "Table of Contents",
   "title_sidebar": "Contents",
   "toc_cell": false,
   "toc_position": {},
   "toc_section_display": true,
   "toc_window_display": false
  },
  "vscode": {
   "interpreter": {
    "hash": "82a59094006b2de3bdd5eed5b0dc194fefc75c1a5e06ee77fadbbed13d225964"
   }
  }
 },
 "nbformat": 4,
 "nbformat_minor": 5
}
